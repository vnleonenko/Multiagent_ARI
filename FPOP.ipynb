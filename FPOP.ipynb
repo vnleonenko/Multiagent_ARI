{
 "cells": [
  {
   "cell_type": "code",
   "execution_count": 4,
   "metadata": {},
   "outputs": [],
   "source": [
    "import pandas as pd\n",
    "import numpy as np\n",
    "import matplotlib.pyplot as plt\n",
    "from typing import List\n",
    "from colorama import Fore\n",
    "import random"
   ]
  },
  {
   "cell_type": "markdown",
   "metadata": {},
   "source": [
    "Факторизуем возраста на группы по 5 лет"
   ]
  },
  {
   "cell_type": "code",
   "execution_count": 5,
   "metadata": {},
   "outputs": [],
   "source": [
    "age_step = 5\n",
    "number_of_age_classes = 14\n",
    "age_max = 100\n",
    "def factor_age(age):\n",
    "        return (age//age_step) if age <= 70 else number_of_age_classes"
   ]
  },
  {
   "cell_type": "markdown",
   "metadata": {},
   "source": [
    "Считываем данные популяции для 2010 года в формате RTI"
   ]
  },
  {
   "cell_type": "code",
   "execution_count": 6,
   "metadata": {},
   "outputs": [
    {
     "data": {
      "text/plain": [
       "(4865119, 5)"
      ]
     },
     "execution_count": 6,
     "metadata": {},
     "output_type": "execute_result"
    }
   ],
   "source": [
    "df = pd.read_csv(\"people_2010.txt\", sep='\\t', index_col=0)\n",
    "# df = df.truncate(before=0,after=999)\n",
    "df['factor_age'] = list(map(lambda age: factor_age(age), df.age))\n",
    "df.shape"
   ]
  },
  {
   "cell_type": "code",
   "execution_count": 7,
   "metadata": {},
   "outputs": [],
   "source": [
    "# смертность мужчин на 1000 человек соответствующего возраста (по 5 лет)\n",
    "mortality_male = np.array([1.5, 0.2, 0.3, 0.5, 1.2, 2.7, 5.5, 6.3, 7.0, 9.5, 13.9, 20.3, 29.2, 36.8, 73.3]) / 1000\n",
    "mortality_female = np.array([1.4, 0.2, 0.1, 0.3, 0.5, 1.0, 1.4, 2.0, 2.7, 3.5, 5.0, 7.6, 11.0, 14.8, 59.0]) / 1000\n",
    "fertility = np.array([0, 0, 0, 11.9, 53.0, 98.7, 73.3, 34.7, 7.3, 0.5, 0, 0, 0, 0, 0]) / 1000\n",
    "birth_sex = np.array([29.5, 27.5])*1000 #количество родившихся мальчиков/девочек"
   ]
  },
  {
   "cell_type": "code",
   "execution_count": 8,
   "metadata": {},
   "outputs": [],
   "source": [
    "age_factorized = [age_step*i for i in range(number_of_age_classes+1)]\n",
    "age_year_step = [i for i in range(age_max+1)]"
   ]
  },
  {
   "cell_type": "markdown",
   "metadata": {},
   "source": [
    "Теперь проинтерполируем значения смертности для каждого возраста с шагом в 1 год. C возрастами больше 70 лет пока ничего не делаем."
   ]
  },
  {
   "cell_type": "code",
   "execution_count": 9,
   "metadata": {},
   "outputs": [],
   "source": [
    "mortality_male_interpolated = [np.NaN for i in range(len(age_year_step))]\n",
    "mortality_female_interpolated = [np.NaN for i in range(len(age_year_step))]\n",
    "\n",
    "y_data_index = 0\n",
    "for i in range(len(age_year_step)):\n",
    "    if i%age_step == 0 and y_data_index < len(mortality_male):\n",
    "        mortality_male_interpolated[i] = mortality_male[y_data_index]\n",
    "        mortality_female_interpolated[i] = mortality_female[y_data_index]\n",
    "        y_data_index+=1\n",
    "mortality_male_interpolated = pd.Series(mortality_male_interpolated).interpolate()\n",
    "mortality_female_interpolated = pd.Series(mortality_female_interpolated).interpolate()\n"
   ]
  },
  {
   "cell_type": "markdown",
   "metadata": {},
   "source": [
    "Теперь сравниваем общее количество умерших, рассчитанное по коэффициентам смертности из возрастных групп по 5 лет, и общее количество умерших, рассчитанное по интерполированным значениям смертности для каждого возраста с шагом в 1 год."
   ]
  },
  {
   "cell_type": "code",
   "execution_count": 10,
   "metadata": {},
   "outputs": [
    {
     "name": "stdout",
     "output_type": "stream",
     "text": [
      "Total year mortality calculated by 5 year groups coefficients: 64006\n",
      "Total year mortality calculated by interpolated coefficients: 69358\n",
      "Population after mortality: 4795766\n"
     ]
    }
   ],
   "source": [
    "total_year_mortality_data = 0\n",
    "for age_factor in range(number_of_age_classes+1):\n",
    "    male_mortality = df.loc[(df['factor_age'] == age_factor) & (df['sex'] == 'M')]\n",
    "    total_year_mortality_data += len(male_mortality)*mortality_male[age_factor]\n",
    "    female_mortality = df.loc[(df['factor_age'] == age_factor) & (df['sex'] == 'F')]\n",
    "    total_year_mortality_data += len(female_mortality)*mortality_female[age_factor]\n",
    "total_year_mortality_data = int(total_year_mortality_data)\n",
    "    \n",
    "total_year_mortality_interpolated = 0\n",
    "mortality_indexes_of_all_ages = []\n",
    "for age in range(age_max+1):\n",
    "    current_age_people = df.loc[df['age'] == age]\n",
    "    males_at_current_age = current_age_people.loc[current_age_people['sex'] == 'M']\n",
    "    females_at_current_age = current_age_people.loc[current_age_people['sex'] == 'F']\n",
    "    male_mortality = len(males_at_current_age) * \\\n",
    "                mortality_male_interpolated[age]\n",
    "    female_mortality = len(females_at_current_age) * \\\n",
    "                mortality_female_interpolated[age]\n",
    "    total_year_mortality_interpolated += (male_mortality + female_mortality)\n",
    "    mortality_male_indexes = np.random.choice(np.array(males_at_current_age.sp_id),\n",
    "                                                      int(round(male_mortality)),\n",
    "                                                      replace=False)\n",
    "    mortality_female_indexes = np.random.choice(np.array(females_at_current_age.sp_id),\n",
    "                                                        int(round(\n",
    "                                                            female_mortality)),\n",
    "                                                        replace=False)\n",
    "    mortality_indexes_of_all_ages.extend(mortality_male_indexes)\n",
    "    mortality_indexes_of_all_ages.extend(mortality_female_indexes)    \n",
    "total_year_mortality_interpolated = int(total_year_mortality_interpolated)\n",
    "\n",
    "print(\"Total year mortality calculated by 5 year groups coefficients:\", total_year_mortality_data)\n",
    "print(\"Total year mortality calculated by interpolated coefficients:\",  total_year_mortality_interpolated)\n",
    "\n",
    "#remove deceased people from population \n",
    "df= df[~df.sp_id.isin(mortality_indexes_of_all_ages)]\n",
    "print(\"Population after mortality:\", df.shape[0])\n"
   ]
  },
  {
   "cell_type": "markdown",
   "metadata": {},
   "source": [
    "Получилось различие в 5 тысяч человек. Это связано с тем, что площадь под графиком смертности для интерполированных коэффициентов больше, чем для коэффициентов с шагом в 5 лет. Эту ошибку нужно будет как-то убрать."
   ]
  },
  {
   "cell_type": "markdown",
   "metadata": {},
   "source": [
    "Теперь проинтерполируем рождаемость. Рождаемость определяется исходя из коэффициентов количества рожавших на 1000 женщин соответствующего возраста. Коэффициенты приведены для групп по 5 лет начиная с 15 и заканчивая "
   ]
  },
  {
   "cell_type": "code",
   "execution_count": 11,
   "metadata": {},
   "outputs": [],
   "source": [
    "fertility_interpolated = [np.NaN for i in range(len(age_year_step))]\n",
    "\n",
    "y_data_index = 0\n",
    "for i in range(len(age_year_step)):\n",
    "    if i%age_step == 0 and y_data_index < len(mortality_male):\n",
    "        fertility_interpolated[i] = fertility[y_data_index]\n",
    "        y_data_index+=1\n",
    "fertility_interpolated = pd.Series(fertility_interpolated).interpolate()"
   ]
  },
  {
   "cell_type": "markdown",
   "metadata": {},
   "source": [
    "Добавим процесс рождаемости в нашу популяцию, а также подсчитаем количество родившихся людей."
   ]
  },
  {
   "cell_type": "code",
   "execution_count": 12,
   "metadata": {},
   "outputs": [
    {
     "name": "stdout",
     "output_type": "stream",
     "text": [
      "Total year fertility calculated by 5 year groups coefficients: 57983\n",
      "Total year fertility calculated by interpolated coefficients: 56976\n"
     ]
    }
   ],
   "source": [
    "total_year_fertility_data = 0\n",
    "for age_factor in range(number_of_age_classes):\n",
    "    people_at_age_factor = df.loc[df['factor_age'] == age_factor]\n",
    "    females_at_age_factor = people_at_age_factor.loc[people_at_age_factor['sex'] == 'F']\n",
    "    fertility_at_age_factor = len(females_at_age_factor)*fertility[age_factor]\n",
    "    total_year_fertility_data += fertility_at_age_factor\n",
    "total_year_fertility_data = int(total_year_fertility_data)\n",
    "\n",
    "total_year_fertility_interpolated = 0\n",
    "for age in range(age_max+1):\n",
    "    people_at_current_age = df.loc[df['age'] == age]\n",
    "    females_at_current_age = people_at_current_age.loc[people_at_current_age['sex'] == 'F']\n",
    "    fertility_at_current_age = len(females_at_current_age)*fertility_interpolated[age]\n",
    "    total_year_fertility_interpolated += fertility_at_current_age\n",
    "total_year_fertility_interpolated = int(total_year_fertility_interpolated)\n",
    "\n",
    "\n",
    "print(\"Total year fertility calculated by 5 year groups coefficients:\", total_year_fertility_data)\n",
    "print(\"Total year fertility calculated by interpolated coefficients:\",  total_year_fertility_interpolated)"
   ]
  },
  {
   "cell_type": "markdown",
   "metadata": {},
   "source": [
    "Разница всего около тысячи человек. Теперь добавим новых людей в популяцию. "
   ]
  },
  {
   "cell_type": "code",
   "execution_count": 13,
   "metadata": {},
   "outputs": [],
   "source": [
    "probability_male = birth_sex[0]/sum(birth_sex)\n",
    "probabilty_female = 1 - probability_male\n",
    "\n",
    "fertility_indexes = []\n",
    "for age in range(age_max+1):\n",
    "    people_at_current_age = df.loc[df.age == age]\n",
    "    females_at_current_age = people_at_current_age.loc[people_at_current_age['sex'] == 'F']\n",
    "    fertility_at_current_age = np.random.choice(np.array(females_at_current_age.sp_id), int(\n",
    "        round(fertility_interpolated[age]*len(females_at_current_age))), replace=False)\n",
    "    fertility_indexes.extend(fertility_at_current_age)\n",
    "\n",
    "total_fertility_male = int(len(fertility_indexes)*probability_male)\n",
    "total_fertility_female = int(len(fertility_indexes)*probabilty_female)\n",
    "\n",
    "random.shuffle(fertility_indexes)\n",
    "fertility_male_indexes = fertility_indexes[:total_fertility_male]\n",
    "fertility_female_indexes = fertility_indexes[total_fertility_male:]"
   ]
  },
  {
   "cell_type": "code",
   "execution_count": 18,
   "metadata": {},
   "outputs": [],
   "source": [
    "id_list_male = list(range(max(df.sp_id) + 1,\n",
    "               max(df.sp_id) + total_fertility_male + 1))\n",
    "age_list_male = [0] * total_fertility_male\n",
    "sex_list_male = ['M'] * total_fertility_male\n",
    "\n",
    "hh_list_male = df.loc[df['sp_id'].isin(fertility_male_indexes[:total_fertility_male])]\n",
    "hh_list_male = hh_list_male['sp_hh_id'].to_numpy()\n",
    "\n",
    "new_frame_male = pd.DataFrame({'sp_id': id_list_male, 'sp_hh_id': hh_list_male,\n",
    "                         'age': age_list_male, 'sex': sex_list_male, 'factor_age': age_list_male})\n",
    "df = pd.concat([df, new_frame_male], ignore_index=True)\n",
    "\n",
    "id_list_female = list(range(max(df.sp_id) + 1,\n",
    "               max(df.sp_id) + total_fertility_female + 1))\n",
    "age_list_female = [0] * total_fertility_female\n",
    "sex_list_female = ['F'] * total_fertility_female\n",
    "\n",
    "hh_list_female = df.loc[df['sp_id'].isin(fertility_female_indexes[:total_fertility_female])]\n",
    "hh_list_female = hh_list_female['sp_hh_id'].to_numpy()\n",
    "\n",
    "new_frame_female = pd.DataFrame({'sp_id': id_list_female, 'sp_hh_id': hh_list_female,\n",
    "                         'age': age_list_female, 'sex': sex_list_female, 'factor_age': age_list_female})\n",
    "df = pd.concat([df, new_frame_female], ignore_index=True)"
   ]
  },
  {
   "cell_type": "markdown",
   "metadata": {},
   "source": [
    "Добавили новорожденных в нашу популяцию. Теперь осталось учесть миграцию. "
   ]
  },
  {
   "cell_type": "code",
   "execution_count": null,
   "metadata": {},
   "outputs": [],
   "source": []
  },
  {
   "cell_type": "code",
   "execution_count": 113,
   "metadata": {},
   "outputs": [
    {
     "data": {
      "text/plain": [
       "<BarContainer object of 100 artists>"
      ]
     },
     "execution_count": 113,
     "metadata": {},
     "output_type": "execute_result"
    },
    {
     "data": {
      "image/png": "[encoded data removed]",
      "text/plain": [
       "<Figure size 640x480 with 1 Axes>"
      ]
     },
     "metadata": {},
     "output_type": "display_data"
    }
   ],
   "source": [
    "N = 14\n",
    "x_data = [5*i for i in range(N)]\n",
    "y_data = [x**(1/2) + 0.1*x for x in x_data]\n",
    "plt.bar(x_data, y_data)\n",
    "plt.grid(True)\n",
    "\n",
    "age_max = 100\n",
    "age_step = 5\n",
    "x_interp = [i for i in range(age_max)]\n",
    "y_interp = [np.NaN for i in range(len(x_interp))]\n",
    "\n",
    "y_data_index = 0\n",
    "for i in range(len(x_interp)):\n",
    "    if i%age_step == 0 and y_data_index < len(y_data):\n",
    "        y_interp[i] = y_data[y_data_index]\n",
    "        y_data_index+=1\n",
    "y_interp = pd.Series(y_interp)\n",
    "y_interp = y_interp.interpolate(method='polynomial', order=2)\n",
    "plt.bar(x_interp, y_interp, alpha=0.2)\n"
   ]
  }
 ],
 "metadata": {
  "kernelspec": {
   "display_name": "Python 3",
   "language": "python",
   "name": "python3"
  },
  "language_info": {
   "codemirror_mode": {
    "name": "ipython",
    "version": 3
   },
   "file_extension": ".py",
   "mimetype": "text/x-python",
   "name": "python",
   "nbconvert_exporter": "python",
   "pygments_lexer": "ipython3",
   "version": "3.10.12"
  }
 },
 "nbformat": 4,
 "nbformat_minor": 2
}
