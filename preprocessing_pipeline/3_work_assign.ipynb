{
 "cells": [
  {
   "cell_type": "markdown",
   "metadata": {},
   "source": [
    "### Here we assign workplaces to people \n",
    "In each polygon we know the number of people. So we generate workplaces there. "
   ]
  },
  {
   "cell_type": "code",
   "execution_count": 1,
   "metadata": {},
   "outputs": [],
   "source": [
    "import numpy as np\n",
    "import pandas as pd \n",
    "import matplotlib.pyplot as plt\n",
    "from shapely.geometry import Point\n",
    "from tqdm import tqdm\n",
    "from geopy.distance import great_circle\n",
    "import random"
   ]
  },
  {
   "cell_type": "code",
   "execution_count": 2,
   "metadata": {},
   "outputs": [],
   "source": [
    "# SOME AUXILIARY FUNCTIONS\n",
    "def isSchoolAge(row):\n",
    "    return row['age'] >= 7 and row['age'] <= 17\n",
    "\n",
    "\n",
    "def isWorkingAge(row):\n",
    "    return row['age'] >= 18 and (row['sex'] == 'F' and row['age'] <= 60 or row['sex'] == 'M' and row['age'] <= 55)\n",
    "\n",
    "\n",
    "def rowPointLocation(row):\n",
    "    return Point(float(row['latitude']), float(row['longitude']))\n",
    "\n",
    "\n",
    "def findDistToObj(row, point):\n",
    "    # finds distances from the selected point to the object represented by DataFrame row\n",
    "    obj_point = rowPointLocation(row)\n",
    "    dist = great_circle((point.x, point.y), (obj_point.x, obj_point.y)).km\n",
    "    return dist"
   ]
  },
  {
   "cell_type": "code",
   "execution_count": 3,
   "metadata": {},
   "outputs": [
    {
     "name": "stderr",
     "output_type": "stream",
     "text": [
      "1189525it [00:45, 25936.93it/s]\n"
     ]
    }
   ],
   "source": [
    "city_name = 'chelyabinsk'\n",
    "\n",
    "input_dir_workplaces = '../data/initial_' + city_name + '/workplaces_' + city_name + '.txt'\n",
    "input_dir_people = '../data/initial_' + city_name + '/people_' + city_name + '_splitted_dwellings.txt'\n",
    "input_dir_households = '../data/initial_' + city_name + '/households.txt'\n",
    "output_dir = '../data/initial_' + city_name + '/people_' + city_name + '_assigned_workplaces.txt'\n",
    "\n",
    "\n",
    "people_df = pd.read_csv(input_dir_people, sep='\\t')\n",
    "households_df = pd.read_csv(input_dir_households, sep='\\t')\n",
    "workplaces_df = pd.read_csv(input_dir_workplaces, sep='\\t')\n",
    "\n",
    "\n",
    "\n",
    "hh_points_dic = {}\n",
    "\n",
    "list_keys = households_df['sp_id'].tolist()\n",
    "list_values = [Point([row['latitude'], row['longitude']])\n",
    "               for idx, row in tqdm(households_df.iterrows())]\n",
    "\n",
    "for key, value in zip(list_keys, list_values):\n",
    "    hh_points_dic[key] = value"
   ]
  },
  {
   "cell_type": "code",
   "execution_count": 4,
   "metadata": {},
   "outputs": [
    {
     "name": "stdout",
     "output_type": "stream",
     "text": [
      "Assigning workplaces started...\n",
      "IN DISTANCE <= 15km\n",
      "Removed people without work...\n",
      "Workplaces, total: 867317.0\n",
      "Working people, total: 637555\n",
      "     sp_id   latitude  longitude  size  distances\n",
      "0      1.0  55.186586  61.597408  25.0        0.0\n",
      "1      2.0  55.159652  61.570179  31.0        0.0\n",
      "2      3.0  55.177610  61.570179  41.0        0.0\n",
      "3      4.0  55.195560  61.570179  41.0        0.0\n",
      "4      5.0  55.213502  61.570179  28.0        0.0\n",
      "..     ...        ...        ...   ...        ...\n",
      "179  180.0  55.042728  61.216206   3.0        0.0\n",
      "180  181.0  55.060739  61.216206   1.0        0.0\n",
      "181  182.0  55.033720  61.188977  34.0        0.0\n",
      "182  183.0  55.051734  61.188977  33.0        0.0\n",
      "183  184.0  55.042728  61.161748  26.0        0.0\n",
      "\n",
      "[184 rows x 5 columns]\n",
      "(637555, 8)\n"
     ]
    },
    {
     "name": "stderr",
     "output_type": "stream",
     "text": [
      "100%|██████████████████████████████████| 637555/637555 [43:54<00:00, 242.02it/s]\n"
     ]
    },
    {
     "name": "stdout",
     "output_type": "stream",
     "text": [
      "Time of execution: 44.073092528184254 min\n"
     ]
    }
   ],
   "source": [
    "def assignWorkplaces(df_orig, hh_points_dic, workplaces_df_orig) -> pd.DataFrame:\n",
    "\n",
    "    print(\"Assigning workplaces started...\")\n",
    "    assign_type = '15km' # 'closest' or any ohter string to apply less than 15km radius workplace\n",
    "    print(\"CLOSEST WORKPLACE\" if assign_type == 'closest' else \"IN DISTANCE <= 15km\")\n",
    "    df = df_orig[df_orig.apply(isWorkingAge, axis=1)]\n",
    "    \n",
    "    print('Removed people without work...')\n",
    "    \n",
    "    close_work_ids = []\n",
    "    workers_num = {}\n",
    "    \n",
    "    print(\"Workplaces, total: {}\".format(workplaces_df_orig['size'].sum()))\n",
    "    print(\"Working people, total: {}\".format(df.shape[0]))\n",
    "\n",
    "    df_add = pd.DataFrame(list(np.zeros(workplaces_df_orig.shape[0])), columns=[\n",
    "                          'distances'], index=workplaces_df_orig.index)\n",
    "    \n",
    "    workplaces_df = workplaces_df_orig.join(df_add)\n",
    "    print(workplaces_df)\n",
    "    allWorkplacesFilled = False\n",
    "    \n",
    "    print(df.shape)\n",
    "    for idx in tqdm(range(int(df.shape[0]))):\n",
    "    # for idx in tqdm(range(100)):\n",
    "        person_row = df.iloc[idx]\n",
    "        person_point = hh_points_dic[person_row['sp_hh_id']]\n",
    "        \n",
    "        series_distance = workplaces_df.apply(\n",
    "            findDistToObj, args=(person_point,), axis=1)\n",
    "        # print(series_distance)\n",
    "        df_add = pd.DataFrame(series_distance.tolist(), columns=[\n",
    "                              'distances'], index=workplaces_df.index)\n",
    "        \n",
    "        workplaces_df.update(df_add)\n",
    "        isWorkerAssigned = False\n",
    "        \n",
    "        while not isWorkerAssigned:\n",
    "            # print(\"Schools: \\n\", schools_df)\n",
    "            # print(\"Work distances: \\n\", workplaces_df['distances'])\n",
    "            \n",
    "            close_workplace = None\n",
    "            min_index = 0\n",
    "            ### ASSIGN CLOSEST WORKPLACE\n",
    "            if (assign_type == 'closest'):\n",
    "                min_index = workplaces_df['distances'].idxmin()\n",
    "                close_workplace = workplaces_df.loc[min_index]\n",
    "                print(close_workplace)\n",
    "            ### ASSIGN FROM SOME DISTANCE    \n",
    "            else: \n",
    "                workplaceCloseEnough = False \n",
    "                counter = 0\n",
    "                while (not workplaceCloseEnough):\n",
    "                    random.seed(10)\n",
    "                    min_index = np.random.choice(workplaces_df['distances'].index, size=1)[0]\n",
    "                    close_workplace = workplaces_df.loc[min_index]\n",
    "                    # print(close_workplace['distances'])\n",
    "                    # print(close_workplace.shape)\n",
    "                    # print(close_workplace['distances'])\n",
    "                    counter+=1\n",
    "                    if counter >= 100:\n",
    "                        workplaceCloseEnough = True\n",
    "                        print('Too much tries to choose working place')\n",
    "                    if (close_workplace['distances'] <= 15): \n",
    "                        # print(close_workplace)\n",
    "                        workplaceCloseEnough = True\n",
    "            \n",
    "            ### ASSIGN             \n",
    "            if not (close_workplace['sp_id'] in workers_num.keys()):  # checking capacity\n",
    "                workers_num[close_workplace['sp_id']] = 1\n",
    "            else:\n",
    "                workers_num[close_workplace['sp_id']\n",
    "                             ] = workers_num[close_workplace['sp_id']] + 1\n",
    "                \n",
    "            if workers_num[close_workplace['sp_id']] == close_workplace['size']:\n",
    "                # print(\"Before: {}\".format(schools_df.shape[0]))\n",
    "                # (schools_df.index[min_index])\n",
    "                # print(min_index)\n",
    "                \n",
    "                workplaces_df = workplaces_df.drop(min_index, errors='ignore')\n",
    "                # print(\"After: {}\".format(schools_df.shape[0]))\n",
    "\n",
    "                if workplaces_df.shape[0] == 0:\n",
    "                    allWorkplacesFilled = True\n",
    "                    \n",
    "            isWorkerAssigned = True\n",
    "        \n",
    "        close_work_ids.append(close_workplace['sp_id'])\n",
    "\n",
    "        if allWorkplacesFilled:\n",
    "            print(\"All workplaces filled to capacity!\")\n",
    "            break\n",
    "            \n",
    "        \n",
    "    df_orig.update(pd.DataFrame(close_work_ids, columns=[\n",
    "                   'work_id'], index=df.index[:len(close_work_ids)]))    \n",
    "    df_orig.to_csv(output_dir, sep='\\t')\n",
    "    return df_orig\n",
    "\n",
    "\n",
    "import time\n",
    "\n",
    "start = time.time()\n",
    "df_assigned = assignWorkplaces(people_df, hh_points_dic, workplaces_df)\n",
    "end = time.time()\n",
    "print(\"Time of execution: {} min\".format((end - start)/60))"
   ]
  },
  {
   "cell_type": "code",
   "execution_count": 5,
   "metadata": {},
   "outputs": [
    {
     "data": {
      "text/plain": [
       "1"
      ]
     },
     "execution_count": 5,
     "metadata": {},
     "output_type": "execute_result"
    }
   ],
   "source": [
    "min_idx = workplaces_df['size'].idxmin()\n",
    "workplaces_df.loc[min_idx]\n",
    "chosen_idx = np.random.choice(workplaces_df.index, size=1)\n",
    "workplaces_df = workplaces_df.drop(chosen_idx)\n",
    "np.random.choice(workplaces_df.index, size=1)[0]"
   ]
  },
  {
   "cell_type": "code",
   "execution_count": 6,
   "metadata": {},
   "outputs": [
    {
     "data": {
      "text/plain": [
       "array(['X', 173.0, 182.0, 34.0, 162.0, 51.0, 88.0, 89.0, 35.0, 49.0, 80.0,\n",
       "       38.0, 139.0, 21.0, 120.0, 81.0, 149.0, 140.0, 180.0, 152.0, 107.0,\n",
       "       174.0, 64.0, 105.0, 175.0, 82.0, 118.0, 161.0, 37.0, 172.0, 134.0,\n",
       "       67.0, 63.0, 99.0, 119.0, 70.0, 103.0, 150.0, 148.0, 125.0, 135.0,\n",
       "       151.0, 87.0, 176.0, 160.0, 121.0, 153.0, 163.0, 68.0, 137.0, 65.0,\n",
       "       164.0, 123.0, 100.0, 9.0, 20.0, 85.0, 183.0, 117.0, 104.0, 184.0,\n",
       "       53.0, 181.0, 98.0, 138.0, 8.0, 122.0, 101.0, 48.0, 23.0, 7.0, 36.0,\n",
       "       22.0, 83.0, 69.0, 86.0, 136.0, 124.0, 106.0, 84.0, 50.0, 165.0,\n",
       "       52.0, 24.0, 39.0, 66.0, 108.0, 102.0, 54.0, 141.0, 71.0, 10.0,\n",
       "       40.0, 11.0, 90.0, 126.0, 177.0, 109.0, 154.0, 178.0, 167.0, 166.0,\n",
       "       142.0, 155.0, 12.0, 72.0, 25.0, 91.0, 127.0, 26.0, 55.0, 179.0,\n",
       "       168.0, 2.0, 41.0, 56.0, 110.0, 73.0, 156.0, 128.0, 143.0, 92.0,\n",
       "       57.0, 13.0, 5.0, 42.0, 28.0, 1.0, 74.0, 43.0, 14.0, 3.0, 4.0, 27.0,\n",
       "       15.0, 58.0, 29.0, 111.0, 129.0, 93.0, 144.0, 169.0, 157.0, 6.0,\n",
       "       44.0, 145.0, 112.0, 75.0, 170.0, 16.0, 130.0, 59.0, 94.0, 30.0,\n",
       "       158.0, 76.0, 45.0, 113.0, 146.0, 171.0, 95.0, 131.0, 60.0, 31.0,\n",
       "       159.0, 114.0, 77.0, 46.0, 147.0, 17.0, 96.0, 132.0, 32.0, 61.0,\n",
       "       78.0, 115.0, 18.0, 47.0, 33.0, 62.0, 133.0, 97.0, 79.0, 116.0,\n",
       "       19.0], dtype=object)"
      ]
     },
     "execution_count": 6,
     "metadata": {},
     "output_type": "execute_result"
    }
   ],
   "source": [
    "df_assigned['work_id'].unique()"
   ]
  },
  {
   "cell_type": "code",
   "execution_count": 7,
   "metadata": {},
   "outputs": [],
   "source": [
    "# just some tests\n",
    "# for i in range(100):\n",
    "#     person_row = df_assigned.iloc[i]\n",
    "#     hh_id = person_row['sp_hh_id']\n",
    "#     work_id = person_row['work_id']\n",
    "#     if person_row['work_id'] != 'X':\n",
    "#         work = Point(workplaces_df[workplaces_df['sp_id'] == work_id].latitude, workplaces_df[workplaces_df['sp_id'] == work_id].longitude)  \n",
    "#         hh =  Point(households_df[households_df['sp_id'] == hh_id].iloc[0].latitude, households_df[households_df['sp_id'] == hh_id].iloc[0].longitude) \n",
    "#         dist = great_circle((work.x, work.y), (hh.x, hh.y)).km\n",
    "#         if (dist > 20):\n",
    "#             print(person_row, dist)\n"
   ]
  }
 ],
 "metadata": {
  "kernelspec": {
   "display_name": "Python 3 (ipykernel)",
   "language": "python",
   "name": "python3"
  },
  "language_info": {
   "codemirror_mode": {
    "name": "ipython",
    "version": 3
   },
   "file_extension": ".py",
   "mimetype": "text/x-python",
   "name": "python",
   "nbconvert_exporter": "python",
   "pygments_lexer": "ipython3",
   "version": "3.10.12"
  }
 },
 "nbformat": 4,
 "nbformat_minor": 4
}
