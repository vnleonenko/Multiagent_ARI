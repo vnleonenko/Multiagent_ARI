{
 "cells": [
  {
   "cell_type": "markdown",
   "metadata": {},
   "source": [
    "### Here we generate synthetic population of city without workplaces and schools"
   ]
  },
  {
   "cell_type": "code",
   "execution_count": 1,
   "metadata": {},
   "outputs": [],
   "source": [
    "import numpy as np\n",
    "import pandas as pd\n",
    "import matplotlib.pyplot as plt\n",
    "import pickle\n",
    "import time as time\n",
    "import random\n",
    "from tqdm import tqdm\n",
    "from scipy.stats import binom"
   ]
  },
  {
   "cell_type": "code",
   "execution_count": 2,
   "metadata": {},
   "outputs": [],
   "source": [
    "city_name = 'chelyabinsk'"
   ]
  },
  {
   "cell_type": "code",
   "execution_count": 3,
   "metadata": {},
   "outputs": [],
   "source": [
    "def formAgeColumnsNames():\n",
    "    list_names = []\n",
    "\n",
    "    for gender in ['m', 'g']:\n",
    "        for i in range(0, 101):\n",
    "            list_names.append(gender+str(i))\n",
    "\n",
    "    return list_names\n",
    "\n",
    "\n",
    "def calcSumDwellers(df, age_names):\n",
    "    sum = 0\n",
    "    for name in age_names:\n",
    "        sum += df[name].sum()\n",
    "\n",
    "    return sum\n",
    "\n",
    "\n",
    "def popStructure(hh_df):\n",
    "    m_num = 0\n",
    "    f_num = 0\n",
    "    for i in range(0, 100):\n",
    "        mname = 'm'+str(i)\n",
    "        fname = 'g'+str(i)\n",
    "\n",
    "        mcol = hh_df[mname].astype('float64')\n",
    "        fcol = hh_df[fname].astype('float64')\n",
    "\n",
    "        print('Males, {}:  {}'.format(mname, mcol.sum()))\n",
    "        print('Females, {}:  {}'.format(fname, fcol.sum()))\n",
    "        m_num = m_num + mcol.sum()\n",
    "        f_num = f_num + fcol.sum()\n",
    "    print(\"Males, total: {}\".format(m_num))\n",
    "    print(\"Females, total: {}\".format(f_num))\n",
    "    print(\"Total: {}\".format(m_num+f_num))\n",
    "\n",
    "\n",
    "def calcHHSize(row):\n",
    "    # print(row)\n",
    "    size = 0\n",
    "    for gender_age in formAgeColumnsNames():\n",
    "        size += int(row[gender_age])\n",
    "\n",
    "    return size\n",
    "\n",
    "\n",
    "def aggregateHouseholds(df):\n",
    "    # Accumulates people by coordinates into households, leaving coords and quantities in df\n",
    "\n",
    "    df = df[['latitude', 'longitude']+formAgeColumnsNames()]\n",
    "\n",
    "    # for item in formAgeColumnsNames():\n",
    "    #     df[item] = df[item].astype('float64')\n",
    "\n",
    "    df = df.apply(pd.to_numeric, errors='coerce')\n",
    "\n",
    "    df = df.groupby(['latitude', 'longitude']).agg('sum')\n",
    "\n",
    "    hh_sizes = df.apply(calcHHSize, axis=1)\n",
    "    df_add = pd.DataFrame(hh_sizes.tolist(), columns=[\n",
    "                          'hh_size'], index=df.index)\n",
    "    df = df.join(df_add)\n",
    "\n",
    "    hh_size_col = df['hh_size']\n",
    "    df.drop(labels=['hh_size'], axis=1, inplace=True)\n",
    "    df.insert(0, 'hh_size', hh_size_col)\n",
    "\n",
    "    print(df[:5])\n",
    "\n",
    "    df = df.reset_index()\n",
    "    return df\n",
    "\n",
    "\n",
    "def findGender(str):\n",
    "\n",
    "    if str == 'm':\n",
    "        return 'M'\n",
    "    else:\n",
    "        return 'F'\n",
    "\n",
    "\n",
    "def extractGenderAge(colname):\n",
    "    return findGender(colname[:1]), int(colname[1:])\n"
   ]
  },
  {
   "cell_type": "code",
   "execution_count": 4,
   "metadata": {},
   "outputs": [],
   "source": [
    "def generateSynthpop_v2(raw_df, output_path_people, output_path_households):\n",
    "    # Optimized generation function\n",
    "    sp_id_cur = 1\n",
    "\n",
    "    hh_col_list = ['sp_id', 'stcotrbg', 'hh_size',\n",
    "                   'hh_race', 'hh_income', 'latitude',\t'longitude']\n",
    "\n",
    "    hh_num = raw_df.shape[0]\n",
    "    hh_ids = list(range(1, hh_num+1))\n",
    "    hh_stcotrbg_list = [190000]*hh_num\n",
    "    hh_race_list = [1]*hh_num\n",
    "    hh_income = [0] * hh_num\n",
    "\n",
    "    hh_add_df = pd.DataFrame(np.column_stack([hh_ids, hh_stcotrbg_list, hh_race_list, hh_income]), columns=[\n",
    "                             'sp_id', 'stcotrbg', 'hh_race', 'hh_income'])\n",
    "\n",
    "    hh_size_dic = {}\n",
    "\n",
    "    people_gender = []\n",
    "    people_age = []\n",
    "    people_hh_id = []\n",
    "    # print(raw_df[:5])\n",
    "    # print(hh_add_df[:5])\n",
    "\n",
    "    hh_df = hh_add_df.join(raw_df[['hh_size', 'latitude', 'longitude']])\n",
    "\n",
    "    # print(\"Age group size: {}\".format(calcSumDwellers(raw_df, ['m100'])))  # formAgeColumnsNames()\n",
    "\n",
    "    # print(hh_df[:5])\n",
    "\n",
    "    for col_name in formAgeColumnsNames():\n",
    "        # print(col_name)\n",
    "        gender, age = extractGenderAge(col_name)\n",
    "\n",
    "        num_total = int(raw_df[col_name].sum())\n",
    "\n",
    "        people_gender.extend([gender]*num_total)\n",
    "        people_age.extend([age]*num_total)\n",
    "\n",
    "        # Assigning household ids, starting from 1\n",
    "        hh_id = 1\n",
    "        for num_cur in raw_df[col_name]:\n",
    "            if num_cur > 0:\n",
    "                people_hh_id.extend([hh_id]*int(num_cur))\n",
    "            hh_id += 1\n",
    "\n",
    "    # Constructing dataframes from the acquired data\n",
    "\n",
    "    people_num = len(people_hh_id)\n",
    "\n",
    "    print(\"Total population: {}\".format(people_num))\n",
    "    input(\"Press any key to continue...\")\n",
    "\n",
    "    race_list = [1]*people_num\n",
    "    relate_list = [0]*people_num\n",
    "    work_id_list = school_id_list = ['X']*people_num\n",
    "    sp_id_list = list(range(1, people_num+1))\n",
    "\n",
    "    people_col_list = ['sp_id', 'sp_hh_id', 'age',\n",
    "                       'sex', 'race', 'relate', 'school_id', 'work_id']\n",
    "\n",
    "    people_df = pd.DataFrame(np.column_stack([sp_id_list, people_hh_id, people_age, people_gender,\n",
    "                             race_list, relate_list, school_id_list, work_id_list]), columns=people_col_list)\n",
    "\n",
    "    # print(people_df[:5])\n",
    "\n",
    "    people_dtype_list = ['int64', 'int64', 'int64', 'category',\n",
    "                         'int64', 'int64', 'object', 'object', 'object']\n",
    "\n",
    "    for col, type in zip(people_col_list, people_dtype_list):\n",
    "        people_df[col] = people_df[col].astype(type)\n",
    "\n",
    "    hh_dtype_list = ['int64', 'int64', 'int64', 'int64', 'float64', 'float64']\n",
    "\n",
    "    for col, type in zip(hh_col_list, hh_dtype_list):\n",
    "        hh_df[col] = hh_df[col].astype(type)\n",
    "\n",
    "    people_df = people_df.sort_values('sp_hh_id')\n",
    "\n",
    "    people_df.to_csv(output_path_people, index=False, sep='\\t')\n",
    "    hh_df.to_csv(output_path_households, index=False, sep='\\t')"
   ]
  },
  {
   "cell_type": "code",
   "execution_count": 5,
   "metadata": {},
   "outputs": [
    {
     "name": "stdout",
     "output_type": "stream",
     "text": [
      "Script started...\n",
      "Data was read...\n",
      "                     hh_size  m0  m1  m2  m3  m4  m5  m6  m7  m8  ...  g91  \\\n",
      "latitude  longitude                                               ...        \n",
      "55.030831 61.377865        6   0   0   0   0   0   0   0   0   0  ...    0   \n",
      "55.031034 61.376106        1   0   0   0   0   0   0   0   0   0  ...    0   \n",
      "55.031753 61.376353        7   0   0   0   0   0   0   0   0   0  ...    0   \n",
      "55.031817 61.378146        6   0   0   0   0   0   0   0   0   0  ...    0   \n",
      "55.032495 61.377787        4   0   0   0   0   0   0   0   0   0  ...    0   \n",
      "\n",
      "                     g92  g93  g94  g95  g96  g97  g98  g99  g100  \n",
      "latitude  longitude                                                \n",
      "55.030831 61.377865    0    0    0    0    0    0    0    0     0  \n",
      "55.031034 61.376106    0    0    0    0    0    0    0    0     0  \n",
      "55.031753 61.376353    0    0    0    0    0    0    0    0     0  \n",
      "55.031817 61.378146    0    0    0    0    0    0    0    0     0  \n",
      "55.032495 61.377787    0    0    0    0    0    0    0    0     0  \n",
      "\n",
      "[5 rows x 203 columns]\n",
      "Households were aggregated...\n",
      "Total population: 1189525\n"
     ]
    },
    {
     "name": "stdin",
     "output_type": "stream",
     "text": [
      "Press any key to continue... \n"
     ]
    },
    {
     "name": "stdout",
     "output_type": "stream",
     "text": [
      "Population generated!\n",
      "Time of execution: 0 min 59 sec\n"
     ]
    }
   ],
   "source": [
    "### CHANGE FOR YOUR CITY\n",
    "input_path = '../data/initial_' + city_name + '/database_main_' + city_name + '.xlsx'\n",
    "\n",
    "output_path_people = '../data/initial_' + city_name + '/people_' + city_name + '.txt'\n",
    "output_path_households = '../data/initial_' + city_name + '/households_' + city_name + '.txt'\n",
    "### CHANGE FOR YOUR CITY\n",
    "\n",
    "start_time = time.time()\n",
    "print(\"Script started...\")\n",
    "# _cleant , chunksize = 1000\n",
    "raw_df = pd.read_excel(input_path)\n",
    "print(\"Data was read...\")\n",
    "raw_df = aggregateHouseholds(raw_df)\n",
    "print(\"Households were aggregated...\")\n",
    "generateSynthpop_v2(raw_df, output_path_people, output_path_households)\n",
    "print(\"Population generated!\")\n",
    "execution_time = int(time.time() - start_time)\n",
    "print(\"Time of execution: {} min {} sec\".format(\n",
    "    int(execution_time/60), execution_time % 60))"
   ]
  },
  {
   "cell_type": "code",
   "execution_count": 6,
   "metadata": {},
   "outputs": [
    {
     "name": "stdout",
     "output_type": "stream",
     "text": [
      "     sp_id  sp_hh_id  age sex  race  relate school_id work_id\n",
      "0   599955         1    8   F     1       0         X       X\n",
      "1   790949         1   35   F     1       0         X       X\n",
      "2  1094293         1   69   F     1       0         X       X\n",
      "3   556704         1    2   F     1       0         X       X\n",
      "4   293648         1   39   M     1       0         X       X\n",
      "Total number of people in population: 1189525\n",
      "   sp_id  stcotrbg  hh_race  hh_income  hh_size   latitude  longitude\n",
      "0      1    190000        1        0.0        6  55.030831  61.377865\n",
      "1      2    190000        1        0.0        1  55.031034  61.376106\n",
      "2      3    190000        1        0.0        7  55.031753  61.376353\n",
      "3      4    190000        1        0.0        6  55.031817  61.378146\n",
      "4      5    190000        1        0.0        4  55.032495  61.377787\n",
      "Total number of households in population 23478\n"
     ]
    }
   ],
   "source": [
    "people = pd.read_csv(output_path_people, sep='\\t')\n",
    "households = pd.read_csv(output_path_households, sep='\\t')\n",
    "print(people.head())\n",
    "print(\"Total number of people in population:\", len(people['sp_id'].unique()))\n",
    "print(households.head())\n",
    "print(\"Total number of households in population\", len(households))"
   ]
  },
  {
   "cell_type": "markdown",
   "metadata": {},
   "source": [
    "##### Now we want to split dwellings into flats"
   ]
  },
  {
   "cell_type": "code",
   "execution_count": 7,
   "metadata": {},
   "outputs": [
    {
     "name": "stderr",
     "output_type": "stream",
     "text": [
      "  0%|                                                 | 0/23478 [00:00<?, ?it/s]/tmp/ipykernel_25755/2753418227.py:50: FutureWarning: Calling float on a single element Series is deprecated and will raise a TypeError in the future. Use float(ser.iloc[0]) instead\n",
      "  hh_latitude_list.append(float(households[households['sp_id'] == hh_id].latitude))\n",
      "/tmp/ipykernel_25755/2753418227.py:51: FutureWarning: Calling float on a single element Series is deprecated and will raise a TypeError in the future. Use float(ser.iloc[0]) instead\n",
      "  hh_longitude_list.append(float(households[households['sp_id'] == hh_id].longitude))\n",
      "100%|█████████████████████████████████████| 23478/23478 [10:51<00:00, 36.03it/s]\n"
     ]
    }
   ],
   "source": [
    "def generate_distribution_data(sum, num_of_samples):\n",
    "    data = []\n",
    "    n_i = num_of_samples\n",
    "    y_i = sum\n",
    "    for i in range(num_of_samples):\n",
    "        x_i = binom.rvs(y_i, 1/n_i, size=1)[0]\n",
    "        data.append(x_i)\n",
    "        y_i = y_i - x_i\n",
    "        n_i = n_i - 1\n",
    "    return data\n",
    "\n",
    "\n",
    "hh_id_old = people['sp_hh_id'].unique()\n",
    "people_splitted = pd.DataFrame(columns=['sp_id', 'sp_hh_id', 'age',\t'sex',\t'race',\t'relate', 'school_id', 'work_id'])\n",
    "households_splitted = pd.DataFrame(columns=['sp_id', 'hh_size',\t'latitude', 'longitude'])\n",
    "hh_id_max = 1\n",
    "\n",
    "people_list = []\n",
    "hh_id_list = []\n",
    "hh_size_list = []\n",
    "hh_latitude_list = []\n",
    "hh_longitude_list = []\n",
    "\n",
    "for hh_id in tqdm(hh_id_old):\n",
    "    people_in_current_dwelling = people[people['sp_hh_id'] == hh_id]\n",
    "    people_list.extend(list(people_in_current_dwelling['sp_id']))\n",
    "    # print(list(people_in_current_dwelling['sp_id']))\n",
    "    number_of_people_in_dwelling = len(people_in_current_dwelling)\n",
    "    # distribution_for_new_hh_id = np.random.poisson(2.5, number_of_people_in_dwelling)\n",
    "    if (number_of_people_in_dwelling < 5):\n",
    "        distribution_for_new_hh_id = [number_of_people_in_dwelling]\n",
    "    else:\n",
    "        distribution_for_new_hh_id = generate_distribution_data(number_of_people_in_dwelling, int(number_of_people_in_dwelling/2.5))\n",
    "    \n",
    "    # print(distribution_for_new_hh_id)\n",
    "    # hist, bins = np.histogram(distribution_for_new_hh_id, bins=10)\n",
    "    # bin_centers = (bins[1:]+bins[:-1])*0.5\n",
    "    # plt.bar(bin_centers, hist)\n",
    "    # if number_of_people_in_dwelling > 10:\n",
    "    #     print(\"People in current dwelling: {}, sum of people in flats after distribution: {}  (must be equal)\".format(\n",
    "    #         number_of_people_in_dwelling, sum(distribution_for_new_hh_id)))\n",
    "    \n",
    "    if (number_of_people_in_dwelling != sum(distribution_for_new_hh_id)):\n",
    "        raise RuntimeError(\"Mismatch\")\n",
    "    \n",
    "    for people_in_hh_id in distribution_for_new_hh_id:\n",
    "        for i in range(people_in_hh_id):\n",
    "            hh_id_list.append(hh_id_max)\n",
    "            hh_size_list.append(people_in_hh_id)\n",
    "            hh_latitude_list.append(float(households[households['sp_id'] == hh_id].latitude))\n",
    "            hh_longitude_list.append(float(households[households['sp_id'] == hh_id].longitude))\n",
    "        hh_id_max+=1\n",
    "        \n",
    "        \n",
    "# print(len(hh_id_list))   \n",
    "# print(len(people_list))\n",
    "people_splitted = people\n",
    "people_splitted['sp_hh_id'] = hh_id_list\n",
    "households_splitted['sp_id'] = hh_id_list\n",
    "households_splitted['hh_size'] = hh_size_list\n",
    "households_splitted['latitude'] = hh_latitude_list\n",
    "households_splitted['longitude'] = hh_longitude_list"
   ]
  },
  {
   "cell_type": "code",
   "execution_count": 8,
   "metadata": {},
   "outputs": [],
   "source": [
    "people_splitted.to_csv('../data/initial_' + city_name + '/people_' + city_name + '_splitted_dwellings.txt', sep='\\t', index=0)\n",
    "households_splitted.to_csv('../data/initial_' + city_name + '/households.txt', sep='\\t', index=0)"
   ]
  },
  {
   "cell_type": "markdown",
   "metadata": {},
   "source": [
    "##### Done! Dwellings are splitted in population"
   ]
  },
  {
   "cell_type": "code",
   "execution_count": 9,
   "metadata": {},
   "outputs": [],
   "source": [
    "hh = pd.read_csv('../data/initial_' + city_name + '/households.txt', sep='\\t')"
   ]
  },
  {
   "cell_type": "code",
   "execution_count": 10,
   "metadata": {},
   "outputs": [
    {
     "name": "stdout",
     "output_type": "stream",
     "text": [
      "Number of people in working age:  653967\n"
     ]
    },
    {
     "name": "stderr",
     "output_type": "stream",
     "text": [
      "/tmp/ipykernel_25755/2024561746.py:2: UserWarning: Boolean Series key will be reindexed to match DataFrame index.\n",
      "  people_working_age = people_working_age[people_splitted['age'] < 60]\n"
     ]
    }
   ],
   "source": [
    "people_working_age = people_splitted[people_splitted['age'] > 17]\n",
    "people_working_age = people_working_age[people_splitted['age'] < 60]\n",
    "print(\"Number of people in working age: \", len(people_working_age))"
   ]
  },
  {
   "cell_type": "code",
   "execution_count": null,
   "metadata": {},
   "outputs": [],
   "source": []
  }
 ],
 "metadata": {
  "kernelspec": {
   "display_name": "Python 3 (ipykernel)",
   "language": "python",
   "name": "python3"
  },
  "language_info": {
   "codemirror_mode": {
    "name": "ipython",
    "version": 3
   },
   "file_extension": ".py",
   "mimetype": "text/x-python",
   "name": "python",
   "nbconvert_exporter": "python",
   "pygments_lexer": "ipython3",
   "version": "3.10.12"
  }
 },
 "nbformat": 4,
 "nbformat_minor": 4
}
