{
 "cells": [
  {
   "cell_type": "markdown",
   "metadata": {},
   "source": [
    "### Here we assign schools id to people from population whose age betwen 7 and 17"
   ]
  },
  {
   "cell_type": "code",
   "execution_count": 1,
   "metadata": {},
   "outputs": [],
   "source": [
    "import numpy as np\n",
    "import pandas as pd \n",
    "import matplotlib.pyplot as plt\n",
    "from shapely.geometry import Point\n",
    "from tqdm import tqdm\n",
    "from geopy.distance import great_circle"
   ]
  },
  {
   "cell_type": "code",
   "execution_count": 2,
   "metadata": {},
   "outputs": [
    {
     "name": "stdout",
     "output_type": "stream",
     "text": [
      "Total number of schools: 111\n"
     ]
    }
   ],
   "source": [
    "city_name = 'chelyabinsk'\n",
    "input_dir_schools = '../data/initial_' + city_name + '/schools_' + city_name + '.xlsx'\n",
    "output_dir_schools = '../data/initial_' + city_name + '/schools_' + city_name + '.txt'\n",
    "schools_df = pd.read_excel(input_dir_schools)\n",
    "schools_processed = schools_df.drop(columns = ['id сервиса', 'Название'])\n",
    "schools_processed = schools_df\n",
    "schools_processed = schools_processed.rename(columns={'Мощность': 'size', 'Широта': 'latitude', 'Долгота': 'longitude'})\n",
    "schools_processed['sp_id'] = schools_processed.index + 1\n",
    "columns = schools_processed.columns.tolist()\n",
    "columns = ['sp_id', 'latitude', 'longitude', 'size']\n",
    "schools_processed = schools_processed[columns]\n",
    "\n",
    "print('Total number of schools:', len(schools_processed))\n",
    "schools_processed.to_csv(output_dir_schools, sep='\\t')"
   ]
  },
  {
   "cell_type": "code",
   "execution_count": null,
   "metadata": {},
   "outputs": [],
   "source": []
  }
 ],
 "metadata": {
  "kernelspec": {
   "display_name": "Python 3 (ipykernel)",
   "language": "python",
   "name": "python3"
  },
  "language_info": {
   "codemirror_mode": {
    "name": "ipython",
    "version": 3
   },
   "file_extension": ".py",
   "mimetype": "text/x-python",
   "name": "python",
   "nbconvert_exporter": "python",
   "pygments_lexer": "ipython3",
   "version": "3.10.12"
  }
 },
 "nbformat": 4,
 "nbformat_minor": 4
}
