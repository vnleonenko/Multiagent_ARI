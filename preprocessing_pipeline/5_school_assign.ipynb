{
 "cells": [
  {
   "attachments": {},
   "cell_type": "markdown",
   "metadata": {},
   "source": [
    "### Here we assign schools for students whose age between 7 and 17 and put this info to school_id"
   ]
  },
  {
   "cell_type": "code",
   "execution_count": 1,
   "metadata": {},
   "outputs": [],
   "source": [
    "import numpy as np\n",
    "import pandas as pd \n",
    "import matplotlib.pyplot as plt\n",
    "from shapely.geometry import Point\n",
    "from tqdm import tqdm\n",
    "from geopy.distance import great_circle\n",
    "import random"
   ]
  },
  {
   "cell_type": "code",
   "execution_count": 2,
   "metadata": {},
   "outputs": [],
   "source": [
    "# SOME AUXILIARY FUNCTIONS\n",
    "def isSchoolAge(row):\n",
    "    return row['age'] >= 7 and row['age'] <= 17\n",
    "\n",
    "\n",
    "def isWorkingAge(row):\n",
    "    return row['age'] >= 18 and (row['sex'] == 'F' and row['age'] <= 60 or row['sex'] == 'M' and row['age'] <= 55)\n",
    "\n",
    "\n",
    "def rowPointLocation(row):\n",
    "    return Point(float(row['latitude']), float(row['longitude']))\n",
    "\n",
    "\n",
    "def findDistToObj(row, point):\n",
    "    # finds distances from the selected point to the object represented by DataFrame row\n",
    "    obj_point = rowPointLocation(row)\n",
    "    dist = great_circle((point.x, point.y), (obj_point.x, obj_point.y)).km\n",
    "    return dist"
   ]
  },
  {
   "cell_type": "code",
   "execution_count": 3,
   "metadata": {},
   "outputs": [
    {
     "name": "stderr",
     "output_type": "stream",
     "text": [
      "1189525it [00:45, 26193.99it/s]\n"
     ]
    }
   ],
   "source": [
    "city_name = 'chelyabinsk'\n",
    "\n",
    "input_dir_schools = '../data/initial_' + city_name + '/schools_' + city_name + '.txt'\n",
    "\n",
    "output_dir = '../data/initial_' + city_name + '/people_' + city_name + '_assigned_schools.txt'\n",
    "input_dir_people = '../data/initial_' + city_name + '/people_' + city_name + '_assigned_workplaces.txt'\n",
    "input_dir_households = '../data/initial_' + city_name + '/households.txt'\n",
    "\n",
    "people_df = pd.read_csv(input_dir_people, sep='\\t')\n",
    "households_df = pd.read_csv(input_dir_households, sep='\\t')\n",
    "schools_df = pd.read_csv(input_dir_schools, sep='\\t')\n",
    "\n",
    "\n",
    "hh_points_dic = {}\n",
    "\n",
    "list_keys = households_df['sp_id'].tolist()\n",
    "list_values = [Point([row['latitude'], row['longitude']])\n",
    "               for idx, row in tqdm(households_df.iterrows())]\n",
    "\n",
    "for key, value in zip(list_keys, list_values):\n",
    "    hh_points_dic[key] = value\n",
    "    \n"
   ]
  },
  {
   "cell_type": "code",
   "execution_count": 4,
   "metadata": {},
   "outputs": [
    {
     "name": "stdout",
     "output_type": "stream",
     "text": [
      "Schools, total: 111\n",
      "Schoolchildren, total: 163886\n"
     ]
    },
    {
     "name": "stdin",
     "output_type": "stream",
     "text": [
      "Press any key to continue calculating... \n"
     ]
    },
    {
     "name": "stderr",
     "output_type": "stream",
     "text": [
      "  0%|                                       | 27/163886 [00:00<28:46, 94.90it/s]"
     ]
    },
    {
     "name": "stdout",
     "output_type": "stream",
     "text": [
      "Too much tries\n",
      "Too much tries\n",
      "Too much tries\n",
      "Too much tries\n",
      "Too much tries\n",
      "Too much tries\n",
      "Too much tries\n",
      "Too much tries\n"
     ]
    },
    {
     "name": "stderr",
     "output_type": "stream",
     "text": [
      "  0%|                                      | 49/163886 [00:00<26:43, 102.18it/s]"
     ]
    },
    {
     "name": "stdout",
     "output_type": "stream",
     "text": [
      "Too much tries\n",
      "Too much tries\n",
      "Too much tries\n",
      "Too much tries\n",
      "Too much tries\n",
      "Too much tries\n",
      "Too much tries\n"
     ]
    },
    {
     "name": "stderr",
     "output_type": "stream",
     "text": [
      "  0%|                                      | 73/163886 [00:00<24:53, 109.68it/s]"
     ]
    },
    {
     "name": "stdout",
     "output_type": "stream",
     "text": [
      "Too much tries\n",
      "Too much tries\n",
      "Too much tries\n",
      "Too much tries\n",
      "Too much tries\n",
      "Too much tries\n"
     ]
    },
    {
     "name": "stderr",
     "output_type": "stream",
     "text": [
      "  0%|                                     | 110/163886 [00:01<24:32, 111.25it/s]"
     ]
    },
    {
     "name": "stdout",
     "output_type": "stream",
     "text": [
      "Too much tries\n",
      "Too much tries\n",
      "Too much tries\n",
      "Too much tries\n",
      "Too much tries\n",
      "Too much tries\n",
      "Too much tries\n",
      "Too much tries\n",
      "Too much tries\n",
      "Too much tries\n",
      "Too much tries\n"
     ]
    },
    {
     "name": "stderr",
     "output_type": "stream",
     "text": [
      "  0%|                                     | 134/163886 [00:01<24:05, 113.28it/s]"
     ]
    },
    {
     "name": "stdout",
     "output_type": "stream",
     "text": [
      "Too much tries\n",
      "Too much tries\n",
      "Too much tries\n",
      "Too much tries\n",
      "Too much tries\n",
      "Too much tries\n",
      "Too much tries\n",
      "Too much tries\n",
      "Too much tries\n",
      "Too much tries\n",
      "Too much tries\n",
      "Too much tries\n"
     ]
    },
    {
     "name": "stderr",
     "output_type": "stream",
     "text": [
      "  0%|                                     | 158/163886 [00:01<24:26, 111.61it/s]"
     ]
    },
    {
     "name": "stdout",
     "output_type": "stream",
     "text": [
      "Too much tries\n",
      "Too much tries\n",
      "Too much tries\n",
      "Too much tries\n",
      "Too much tries\n",
      "Too much tries\n",
      "Too much tries\n",
      "Too much tries\n",
      "Too much tries\n"
     ]
    },
    {
     "name": "stderr",
     "output_type": "stream",
     "text": [
      "  0%|                                     | 182/163886 [00:01<23:50, 114.47it/s]"
     ]
    },
    {
     "name": "stdout",
     "output_type": "stream",
     "text": [
      "Too much tries\n",
      "Too much tries\n",
      "Too much tries\n",
      "Too much tries\n",
      "Too much tries\n",
      "Too much tries\n",
      "Too much tries\n",
      "Too much tries\n",
      "Too much tries\n",
      "Too much tries\n",
      "Too much tries\n",
      "Too much tries\n"
     ]
    },
    {
     "name": "stderr",
     "output_type": "stream",
     "text": [
      "  0%|                                     | 206/163886 [00:01<24:16, 112.40it/s]"
     ]
    },
    {
     "name": "stdout",
     "output_type": "stream",
     "text": [
      "Too much tries\n",
      "Too much tries\n",
      "Too much tries\n",
      "Too much tries\n",
      "Too much tries\n",
      "Too much tries\n",
      "Too much tries\n",
      "Too much tries\n",
      "Too much tries\n",
      "Too much tries\n",
      "Too much tries\n",
      "Too much tries\n"
     ]
    },
    {
     "name": "stderr",
     "output_type": "stream",
     "text": [
      "  0%|                                     | 231/163886 [00:02<23:44, 114.85it/s]"
     ]
    },
    {
     "name": "stdout",
     "output_type": "stream",
     "text": [
      "Too much tries\n",
      "Too much tries\n",
      "Too much tries\n",
      "Too much tries\n",
      "Too much tries\n",
      "Too much tries\n",
      "Too much tries\n",
      "Too much tries\n",
      "Too much tries\n",
      "Too much tries\n",
      "Too much tries\n"
     ]
    },
    {
     "name": "stderr",
     "output_type": "stream",
     "text": [
      "  0%|                                     | 267/163886 [00:02<23:28, 116.13it/s]"
     ]
    },
    {
     "name": "stdout",
     "output_type": "stream",
     "text": [
      "Too much tries\n",
      "Too much tries\n",
      "Too much tries\n",
      "Too much tries\n",
      "Too much tries\n",
      "Too much tries\n",
      "Too much tries\n",
      "Too much tries\n",
      "Too much tries\n"
     ]
    },
    {
     "name": "stderr",
     "output_type": "stream",
     "text": [
      "  0%|                                     | 291/163886 [00:02<25:07, 108.49it/s]"
     ]
    },
    {
     "name": "stdout",
     "output_type": "stream",
     "text": [
      "Too much tries\n",
      "Too much tries\n",
      "Too much tries\n",
      "Too much tries\n",
      "Too much tries\n",
      "Too much tries\n",
      "Too much tries\n",
      "Too much tries\n"
     ]
    },
    {
     "name": "stderr",
     "output_type": "stream",
     "text": [
      "  0%|                                     | 313/163886 [00:02<25:35, 106.50it/s]"
     ]
    },
    {
     "name": "stdout",
     "output_type": "stream",
     "text": [
      "Too much tries\n",
      "Too much tries\n",
      "Too much tries\n",
      "Too much tries\n",
      "Too much tries\n",
      "Too much tries\n",
      "Too much tries\n",
      "Too much tries\n",
      "Too much tries\n",
      "Too much tries\n",
      "Too much tries\n",
      "Too much tries\n",
      "Too much tries\n"
     ]
    },
    {
     "name": "stderr",
     "output_type": "stream",
     "text": [
      "  0%|                                     | 338/163886 [00:03<23:50, 114.33it/s]"
     ]
    },
    {
     "name": "stdout",
     "output_type": "stream",
     "text": [
      "Too much tries\n",
      "Too much tries\n",
      "Too much tries\n",
      "Too much tries\n",
      "Too much tries\n",
      "Too much tries\n",
      "Too much tries\n",
      "Too much tries\n",
      "Too much tries\n",
      "Too much tries\n"
     ]
    },
    {
     "name": "stderr",
     "output_type": "stream",
     "text": [
      "  0%|                                     | 362/163886 [00:03<24:07, 112.96it/s]"
     ]
    },
    {
     "name": "stdout",
     "output_type": "stream",
     "text": [
      "Too much tries\n",
      "Too much tries\n",
      "Too much tries\n",
      "Too much tries\n",
      "Too much tries\n",
      "Too much tries\n",
      "Too much tries\n",
      "Too much tries\n",
      "Too much tries\n",
      "Too much tries\n",
      "Too much tries\n",
      "Too much tries\n"
     ]
    },
    {
     "name": "stderr",
     "output_type": "stream",
     "text": [
      "  0%|                                     | 400/163886 [00:03<23:06, 117.87it/s]"
     ]
    },
    {
     "name": "stdout",
     "output_type": "stream",
     "text": [
      "Too much tries\n",
      "Too much tries\n",
      "Too much tries\n",
      "Too much tries\n",
      "Too much tries\n",
      "Too much tries\n",
      "Too much tries\n",
      "Too much tries\n",
      "Too much tries\n",
      "Too much tries\n",
      "Too much tries\n",
      "Too much tries\n"
     ]
    },
    {
     "name": "stderr",
     "output_type": "stream",
     "text": [
      "  0%|                                     | 425/163886 [00:03<22:59, 118.46it/s]"
     ]
    },
    {
     "name": "stdout",
     "output_type": "stream",
     "text": [
      "Too much tries\n",
      "Too much tries\n",
      "Too much tries\n",
      "Too much tries\n",
      "Too much tries\n",
      "Too much tries\n",
      "Too much tries\n",
      "Too much tries\n",
      "Too much tries\n"
     ]
    },
    {
     "name": "stderr",
     "output_type": "stream",
     "text": [
      "  0%|                                     | 450/163886 [00:04<22:59, 118.49it/s]"
     ]
    },
    {
     "name": "stdout",
     "output_type": "stream",
     "text": [
      "Too much tries\n",
      "Too much tries\n",
      "Too much tries\n",
      "Too much tries\n",
      "Too much tries\n",
      "Too much tries\n",
      "Too much tries\n",
      "Too much tries\n",
      "Too much tries\n",
      "Too much tries\n",
      "Too much tries\n"
     ]
    },
    {
     "name": "stderr",
     "output_type": "stream",
     "text": [
      "  0%|                                     | 474/163886 [00:04<23:18, 116.86it/s]"
     ]
    },
    {
     "name": "stdout",
     "output_type": "stream",
     "text": [
      "Too much tries\n",
      "Too much tries\n",
      "Too much tries\n",
      "Too much tries\n",
      "Too much tries\n",
      "Too much tries\n",
      "Too much tries\n",
      "Too much tries\n",
      "Too much tries\n",
      "Too much tries\n",
      "Too much tries\n",
      "Too much tries\n"
     ]
    },
    {
     "name": "stderr",
     "output_type": "stream",
     "text": [
      "  0%|                                     | 498/163886 [00:04<23:47, 114.49it/s]"
     ]
    },
    {
     "name": "stdout",
     "output_type": "stream",
     "text": [
      "Too much tries\n",
      "Too much tries\n",
      "Too much tries\n",
      "Too much tries\n",
      "Too much tries\n",
      "Too much tries\n",
      "Too much tries\n",
      "Too much tries\n",
      "Too much tries\n",
      "Too much tries\n",
      "Too much tries\n",
      "Too much tries\n"
     ]
    },
    {
     "name": "stderr",
     "output_type": "stream",
     "text": [
      "  0%|                                     | 522/163886 [00:04<23:35, 115.39it/s]"
     ]
    },
    {
     "name": "stdout",
     "output_type": "stream",
     "text": [
      "Too much tries\n",
      "Too much tries\n",
      "Too much tries\n",
      "Too much tries\n",
      "Too much tries\n",
      "Too much tries\n",
      "Too much tries\n",
      "Too much tries\n",
      "Too much tries\n"
     ]
    },
    {
     "name": "stderr",
     "output_type": "stream",
     "text": [
      "  0%|                                     | 547/163886 [00:04<23:55, 113.79it/s]"
     ]
    },
    {
     "name": "stdout",
     "output_type": "stream",
     "text": [
      "Too much tries\n",
      "Too much tries\n",
      "Too much tries\n",
      "Too much tries\n",
      "Too much tries\n",
      "Too much tries\n",
      "Too much tries\n",
      "Too much tries\n",
      "Too much tries\n",
      "Too much tries\n",
      "Too much tries\n",
      "Too much tries\n",
      "Too much tries\n"
     ]
    },
    {
     "name": "stderr",
     "output_type": "stream",
     "text": [
      "  0%|▏                                    | 572/163886 [00:05<23:30, 115.79it/s]"
     ]
    },
    {
     "name": "stdout",
     "output_type": "stream",
     "text": [
      "Too much tries\n",
      "Too much tries\n",
      "Too much tries\n",
      "Too much tries\n",
      "Too much tries\n",
      "Too much tries\n",
      "Too much tries\n",
      "Too much tries\n",
      "Too much tries\n"
     ]
    },
    {
     "name": "stderr",
     "output_type": "stream",
     "text": [
      "  0%|▏                                    | 596/163886 [00:05<23:17, 116.84it/s]"
     ]
    },
    {
     "name": "stdout",
     "output_type": "stream",
     "text": [
      "Too much tries\n",
      "Too much tries\n",
      "Too much tries\n",
      "Too much tries\n",
      "Too much tries\n",
      "Too much tries\n",
      "Too much tries\n",
      "Too much tries\n"
     ]
    },
    {
     "name": "stderr",
     "output_type": "stream",
     "text": [
      "  0%|▏                                    | 620/163886 [00:05<24:25, 111.40it/s]"
     ]
    },
    {
     "name": "stdout",
     "output_type": "stream",
     "text": [
      "Too much tries\n",
      "Too much tries\n",
      "Too much tries\n",
      "Too much tries\n",
      "Too much tries\n",
      "Too much tries\n",
      "Too much tries\n",
      "Too much tries\n",
      "Too much tries\n",
      "Too much tries\n",
      "Too much tries\n",
      "Too much tries\n"
     ]
    },
    {
     "name": "stderr",
     "output_type": "stream",
     "text": [
      "  0%|▏                                    | 644/163886 [00:05<24:29, 111.06it/s]"
     ]
    },
    {
     "name": "stdout",
     "output_type": "stream",
     "text": [
      "Too much tries\n",
      "Too much tries\n",
      "Too much tries\n",
      "Too much tries\n",
      "Too much tries\n",
      "Too much tries\n",
      "Too much tries\n",
      "Too much tries\n",
      "Too much tries\n",
      "Too much tries\n"
     ]
    },
    {
     "name": "stderr",
     "output_type": "stream",
     "text": [
      "  0%|▏                                    | 668/163886 [00:05<24:30, 111.01it/s]"
     ]
    },
    {
     "name": "stdout",
     "output_type": "stream",
     "text": [
      "Too much tries\n",
      "Too much tries\n",
      "Too much tries\n",
      "Too much tries\n",
      "Too much tries\n",
      "Too much tries\n",
      "Too much tries\n",
      "Too much tries\n",
      "Too much tries\n",
      "Too much tries\n",
      "Too much tries\n",
      "Too much tries\n",
      "Too much tries\n",
      "Too much tries\n",
      "Too much tries\n"
     ]
    },
    {
     "name": "stderr",
     "output_type": "stream",
     "text": [
      "  0%|▏                                    | 692/163886 [00:06<24:52, 109.33it/s]"
     ]
    },
    {
     "name": "stdout",
     "output_type": "stream",
     "text": [
      "Too much tries\n",
      "Too much tries\n",
      "Too much tries\n",
      "Too much tries\n",
      "Too much tries\n",
      "Too much tries\n",
      "Too much tries\n",
      "Too much tries\n"
     ]
    },
    {
     "name": "stderr",
     "output_type": "stream",
     "text": [
      "  0%|▏                                    | 715/163886 [00:06<24:26, 111.30it/s]"
     ]
    },
    {
     "name": "stdout",
     "output_type": "stream",
     "text": [
      "Too much tries\n",
      "Too much tries\n",
      "Too much tries\n",
      "Too much tries\n",
      "Too much tries\n",
      "Too much tries\n",
      "Too much tries\n",
      "Too much tries\n",
      "Too much tries\n",
      "Too much tries\n",
      "Too much tries\n"
     ]
    },
    {
     "name": "stderr",
     "output_type": "stream",
     "text": [
      "  0%|▏                                    | 739/163886 [00:06<24:10, 112.47it/s]"
     ]
    },
    {
     "name": "stdout",
     "output_type": "stream",
     "text": [
      "Too much tries\n",
      "Too much tries\n",
      "Too much tries\n",
      "Too much tries\n",
      "Too much tries\n",
      "Too much tries\n",
      "Too much tries\n",
      "Too much tries\n",
      "Too much tries\n",
      "Too much tries\n",
      "Too much tries\n"
     ]
    },
    {
     "name": "stderr",
     "output_type": "stream",
     "text": [
      "  0%|▏                                    | 764/163886 [00:06<23:33, 115.43it/s]"
     ]
    },
    {
     "name": "stdout",
     "output_type": "stream",
     "text": [
      "Too much tries\n",
      "Too much tries\n",
      "Too much tries\n",
      "Too much tries\n",
      "Too much tries\n",
      "Too much tries\n",
      "Too much tries\n",
      "Too much tries\n"
     ]
    },
    {
     "name": "stderr",
     "output_type": "stream",
     "text": [
      "  0%|▏                                    | 801/163886 [00:07<23:30, 115.66it/s]"
     ]
    },
    {
     "name": "stdout",
     "output_type": "stream",
     "text": [
      "Too much tries\n",
      "Too much tries\n",
      "Too much tries\n",
      "Too much tries\n",
      "Too much tries\n",
      "Too much tries\n",
      "Too much tries\n",
      "Too much tries\n",
      "Too much tries\n",
      "Too much tries\n",
      "Too much tries\n",
      "Too much tries\n",
      "Too much tries\n",
      "Too much tries\n"
     ]
    },
    {
     "name": "stderr",
     "output_type": "stream",
     "text": [
      "  1%|▏                                    | 825/163886 [00:07<23:29, 115.68it/s]"
     ]
    },
    {
     "name": "stdout",
     "output_type": "stream",
     "text": [
      "Too much tries\n",
      "Too much tries\n",
      "Too much tries\n",
      "Too much tries\n",
      "Too much tries\n",
      "Too much tries\n",
      "Too much tries\n",
      "Too much tries\n",
      "Too much tries\n",
      "Too much tries\n",
      "Too much tries\n",
      "Too much tries\n",
      "Too much tries\n",
      "Too much tries\n"
     ]
    },
    {
     "name": "stderr",
     "output_type": "stream",
     "text": [
      "  1%|▏                                    | 849/163886 [00:07<23:46, 114.31it/s]"
     ]
    },
    {
     "name": "stdout",
     "output_type": "stream",
     "text": [
      "Too much tries\n",
      "Too much tries\n",
      "Too much tries\n",
      "Too much tries\n",
      "Too much tries\n",
      "Too much tries\n",
      "Too much tries\n",
      "Too much tries\n",
      "Too much tries\n",
      "Too much tries\n",
      "Too much tries\n",
      "Too much tries\n",
      "Too much tries\n"
     ]
    },
    {
     "name": "stderr",
     "output_type": "stream",
     "text": [
      "  1%|▏                                    | 873/163886 [00:07<24:07, 112.63it/s]"
     ]
    },
    {
     "name": "stdout",
     "output_type": "stream",
     "text": [
      "Too much tries\n",
      "Too much tries\n",
      "Too much tries\n",
      "Too much tries\n",
      "Too much tries\n",
      "Too much tries\n",
      "Too much tries\n",
      "Too much tries\n",
      "Too much tries\n",
      "Too much tries\n",
      "Too much tries\n"
     ]
    },
    {
     "name": "stderr",
     "output_type": "stream",
     "text": [
      "  1%|▏                                    | 898/163886 [00:07<24:07, 112.59it/s]"
     ]
    },
    {
     "name": "stdout",
     "output_type": "stream",
     "text": [
      "Too much tries\n",
      "Too much tries\n",
      "Too much tries\n",
      "Too much tries\n",
      "Too much tries\n",
      "Too much tries\n",
      "Too much tries\n",
      "Too much tries\n",
      "Too much tries\n",
      "Too much tries\n"
     ]
    },
    {
     "name": "stderr",
     "output_type": "stream",
     "text": [
      "  1%|▏                                    | 923/163886 [00:08<23:34, 115.19it/s]"
     ]
    },
    {
     "name": "stdout",
     "output_type": "stream",
     "text": [
      "Too much tries\n",
      "Too much tries\n",
      "Too much tries\n",
      "Too much tries\n",
      "Too much tries\n",
      "Too much tries\n",
      "Too much tries\n",
      "Too much tries\n",
      "Too much tries\n",
      "Too much tries\n",
      "Too much tries\n",
      "Too much tries\n",
      "Too much tries\n"
     ]
    },
    {
     "name": "stderr",
     "output_type": "stream",
     "text": [
      "  1%|▏                                    | 948/163886 [00:08<23:07, 117.42it/s]"
     ]
    },
    {
     "name": "stdout",
     "output_type": "stream",
     "text": [
      "Too much tries\n",
      "Too much tries\n",
      "Too much tries\n",
      "Too much tries\n",
      "Too much tries\n",
      "Too much tries\n",
      "Too much tries\n"
     ]
    },
    {
     "name": "stderr",
     "output_type": "stream",
     "text": [
      "  1%|▏                                    | 973/163886 [00:08<22:50, 118.88it/s]"
     ]
    },
    {
     "name": "stdout",
     "output_type": "stream",
     "text": [
      "Too much tries\n",
      "Too much tries\n",
      "Too much tries\n",
      "Too much tries\n",
      "Too much tries\n",
      "Too much tries\n",
      "Too much tries\n"
     ]
    },
    {
     "name": "stderr",
     "output_type": "stream",
     "text": [
      "  1%|▏                                   | 1009/163886 [00:08<23:39, 114.74it/s]"
     ]
    },
    {
     "name": "stdout",
     "output_type": "stream",
     "text": [
      "Too much tries\n",
      "Too much tries\n",
      "Too much tries\n",
      "Too much tries\n",
      "Too much tries\n",
      "Too much tries\n",
      "Too much tries\n",
      "Too much tries\n",
      "Too much tries\n",
      "Too much tries\n",
      "Too much tries\n"
     ]
    },
    {
     "name": "stderr",
     "output_type": "stream",
     "text": [
      "  1%|▏                                   | 1021/163886 [00:09<23:40, 114.64it/s]"
     ]
    },
    {
     "name": "stdout",
     "output_type": "stream",
     "text": [
      "Too much tries\n",
      "Too much tries\n",
      "Too much tries\n",
      "Too much tries\n",
      "Too much tries\n",
      "Too much tries\n",
      "Too much tries\n",
      "Too much tries\n",
      "Too much tries\n",
      "Too much tries\n",
      "Too much tries\n"
     ]
    },
    {
     "name": "stderr",
     "output_type": "stream",
     "text": [
      "  1%|▏                                   | 1057/163886 [00:09<24:37, 110.19it/s]"
     ]
    },
    {
     "name": "stdout",
     "output_type": "stream",
     "text": [
      "Too much tries\n",
      "Too much tries\n",
      "Too much tries\n",
      "Too much tries\n",
      "Too much tries\n",
      "Too much tries\n",
      "Too much tries\n",
      "Too much tries\n",
      "Too much tries\n",
      "Too much tries\n",
      "Too much tries\n",
      "Too much tries\n",
      "Too much tries\n",
      "Too much tries\n",
      "Too much tries\n",
      "Too much tries\n"
     ]
    },
    {
     "name": "stderr",
     "output_type": "stream",
     "text": [
      "  1%|▏                                   | 1069/163886 [00:09<26:32, 102.26it/s]"
     ]
    },
    {
     "name": "stdout",
     "output_type": "stream",
     "text": [
      "Too much tries\n",
      "Too much tries\n",
      "Too much tries\n",
      "Too much tries\n",
      "Too much tries\n",
      "Too much tries\n",
      "Too much tries\n",
      "Too much tries\n",
      "Too much tries\n"
     ]
    },
    {
     "name": "stderr",
     "output_type": "stream",
     "text": [
      "  1%|▏                                   | 1104/163886 [00:09<24:48, 109.37it/s]"
     ]
    },
    {
     "name": "stdout",
     "output_type": "stream",
     "text": [
      "Too much tries\n",
      "Too much tries\n",
      "Too much tries\n",
      "Too much tries\n",
      "Too much tries\n",
      "Too much tries\n",
      "Too much tries\n",
      "Too much tries\n",
      "Too much tries\n",
      "Too much tries\n",
      "Too much tries\n",
      "Too much tries\n",
      "Too much tries\n"
     ]
    },
    {
     "name": "stderr",
     "output_type": "stream",
     "text": [
      "  1%|▏                                   | 1129/163886 [00:10<23:47, 113.99it/s]"
     ]
    },
    {
     "name": "stdout",
     "output_type": "stream",
     "text": [
      "Too much tries\n",
      "Too much tries\n",
      "Too much tries\n",
      "Too much tries\n",
      "Too much tries\n",
      "Too much tries\n",
      "Too much tries\n",
      "Too much tries\n",
      "Too much tries\n",
      "Too much tries\n",
      "Too much tries\n"
     ]
    },
    {
     "name": "stderr",
     "output_type": "stream",
     "text": [
      "  1%|▎                                   | 1154/163886 [00:10<23:16, 116.55it/s]"
     ]
    },
    {
     "name": "stdout",
     "output_type": "stream",
     "text": [
      "Too much tries\n",
      "Too much tries\n",
      "Too much tries\n",
      "Too much tries\n",
      "Too much tries\n",
      "Too much tries\n",
      "Too much tries\n",
      "Too much tries\n",
      "Too much tries\n",
      "Too much tries\n"
     ]
    },
    {
     "name": "stderr",
     "output_type": "stream",
     "text": [
      "  1%|▎                                   | 1178/163886 [00:10<23:12, 116.82it/s]"
     ]
    },
    {
     "name": "stdout",
     "output_type": "stream",
     "text": [
      "Too much tries\n",
      "Too much tries\n",
      "Too much tries\n",
      "Too much tries\n",
      "Too much tries\n",
      "Too much tries\n",
      "Too much tries\n",
      "Too much tries\n",
      "Too much tries\n",
      "Too much tries\n",
      "Too much tries\n",
      "Too much tries\n",
      "Too much tries\n"
     ]
    },
    {
     "name": "stderr",
     "output_type": "stream",
     "text": [
      "  1%|▎                                   | 1203/163886 [00:10<23:05, 117.43it/s]"
     ]
    },
    {
     "name": "stdout",
     "output_type": "stream",
     "text": [
      "Too much tries\n",
      "Too much tries\n",
      "Too much tries\n",
      "Too much tries\n",
      "Too much tries\n",
      "Too much tries\n",
      "Too much tries\n",
      "Too much tries\n",
      "Too much tries\n",
      "Too much tries\n"
     ]
    },
    {
     "name": "stderr",
     "output_type": "stream",
     "text": [
      "  1%|▎                                   | 1227/163886 [00:10<23:55, 113.33it/s]"
     ]
    },
    {
     "name": "stdout",
     "output_type": "stream",
     "text": [
      "Too much tries\n",
      "Too much tries\n",
      "Too much tries\n",
      "Too much tries\n",
      "Too much tries\n",
      "Too much tries\n",
      "Too much tries\n",
      "Too much tries\n",
      "Too much tries\n",
      "Too much tries\n",
      "Too much tries\n",
      "Too much tries\n",
      "Too much tries\n",
      "Too much tries\n"
     ]
    },
    {
     "name": "stderr",
     "output_type": "stream",
     "text": [
      "  1%|▎                                   | 1251/163886 [00:11<23:39, 114.60it/s]"
     ]
    },
    {
     "name": "stdout",
     "output_type": "stream",
     "text": [
      "Too much tries\n",
      "Too much tries\n",
      "Too much tries\n",
      "Too much tries\n",
      "Too much tries\n",
      "Too much tries\n",
      "Too much tries\n",
      "Too much tries\n",
      "Too much tries\n",
      "Too much tries\n",
      "Too much tries\n"
     ]
    },
    {
     "name": "stderr",
     "output_type": "stream",
     "text": [
      "  1%|▎                                   | 1276/163886 [00:11<23:03, 117.56it/s]"
     ]
    },
    {
     "name": "stdout",
     "output_type": "stream",
     "text": [
      "Too much tries\n",
      "Too much tries\n",
      "Too much tries\n",
      "Too much tries\n",
      "Too much tries\n"
     ]
    },
    {
     "name": "stderr",
     "output_type": "stream",
     "text": [
      "  1%|▎                                   | 1301/163886 [00:11<22:42, 119.29it/s]"
     ]
    },
    {
     "name": "stdout",
     "output_type": "stream",
     "text": [
      "Too much tries\n",
      "Too much tries\n",
      "Too much tries\n",
      "Too much tries\n"
     ]
    },
    {
     "name": "stderr",
     "output_type": "stream",
     "text": [
      "  1%|▎                                   | 1325/163886 [00:11<23:39, 114.52it/s]"
     ]
    },
    {
     "name": "stdout",
     "output_type": "stream",
     "text": [
      "Too much tries\n",
      "Too much tries\n",
      "Too much tries\n",
      "Too much tries\n",
      "Too much tries\n",
      "Too much tries\n",
      "Too much tries\n",
      "Too much tries\n",
      "Too much tries\n",
      "Too much tries\n",
      "Too much tries\n",
      "Too much tries\n",
      "Too much tries\n",
      "Too much tries\n",
      "Too much tries\n",
      "Too much tries\n",
      "Too much tries\n",
      "Too much tries\n",
      "Too much tries\n",
      "Too much tries\n",
      "Too much tries\n",
      "Too much tries\n"
     ]
    },
    {
     "name": "stderr",
     "output_type": "stream",
     "text": [
      "  1%|▎                                   | 1349/163886 [00:11<25:11, 107.56it/s]"
     ]
    },
    {
     "name": "stdout",
     "output_type": "stream",
     "text": [
      "Too much tries\n",
      "Too much tries\n",
      "Too much tries\n",
      "Too much tries\n",
      "Too much tries\n",
      "Too much tries\n",
      "Too much tries\n",
      "Too much tries\n",
      "Too much tries\n",
      "Too much tries\n",
      "Too much tries\n",
      "Too much tries\n",
      "Too much tries\n",
      "Too much tries\n",
      "Too much tries\n",
      "Too much tries\n",
      "Too much tries\n",
      "Too much tries\n",
      "Too much tries\n",
      "Too much tries\n",
      "Too much tries\n"
     ]
    },
    {
     "name": "stderr",
     "output_type": "stream",
     "text": [
      "  1%|▎                                   | 1375/163886 [00:12<23:44, 114.06it/s]"
     ]
    },
    {
     "name": "stdout",
     "output_type": "stream",
     "text": [
      "Too much tries\n",
      "Too much tries\n",
      "Too much tries\n",
      "Too much tries\n",
      "Too much tries\n",
      "Too much tries\n",
      "Too much tries\n",
      "Too much tries\n",
      "Too much tries\n"
     ]
    },
    {
     "name": "stderr",
     "output_type": "stream",
     "text": [
      "  1%|▎                                   | 1399/163886 [00:12<23:34, 114.85it/s]"
     ]
    },
    {
     "name": "stdout",
     "output_type": "stream",
     "text": [
      "Too much tries\n",
      "Too much tries\n",
      "Too much tries\n",
      "Too much tries\n",
      "Too much tries\n",
      "Too much tries\n",
      "Too much tries\n",
      "Too much tries\n",
      "Too much tries\n",
      "Too much tries\n",
      "Too much tries\n",
      "Too much tries\n",
      "Too much tries\n"
     ]
    },
    {
     "name": "stderr",
     "output_type": "stream",
     "text": [
      "  1%|▎                                   | 1423/163886 [00:12<25:58, 104.25it/s]"
     ]
    },
    {
     "name": "stdout",
     "output_type": "stream",
     "text": [
      "Too much tries\n",
      "Too much tries\n",
      "Too much tries\n",
      "Too much tries\n",
      "Too much tries\n",
      "Too much tries\n",
      "Too much tries\n",
      "Too much tries\n",
      "Too much tries\n",
      "Too much tries\n",
      "Too much tries\n",
      "Too much tries\n",
      "Too much tries\n",
      "Too much tries\n",
      "Too much tries\n",
      "Too much tries\n",
      "Too much tries\n",
      "Too much tries\n",
      "Too much tries\n",
      "Too much tries\n"
     ]
    },
    {
     "name": "stderr",
     "output_type": "stream",
     "text": [
      "  1%|▎                                   | 1434/163886 [00:12<26:59, 100.31it/s]"
     ]
    },
    {
     "name": "stdout",
     "output_type": "stream",
     "text": [
      "Too much tries\n",
      "Too much tries\n",
      "Too much tries\n",
      "Too much tries\n",
      "Too much tries\n",
      "Too much tries\n",
      "Too much tries\n",
      "Too much tries\n",
      "Too much tries\n",
      "Too much tries\n",
      "Too much tries\n",
      "Too much tries\n",
      "Too much tries\n",
      "Too much tries\n",
      "Too much tries\n",
      "Too much tries\n",
      "Too much tries\n",
      "Too much tries\n",
      "Too much tries\n",
      "Too much tries\n",
      "Too much tries\n"
     ]
    },
    {
     "name": "stderr",
     "output_type": "stream",
     "text": [
      "  1%|▎                                    | 1456/163886 [00:12<27:13, 99.42it/s]"
     ]
    },
    {
     "name": "stdout",
     "output_type": "stream",
     "text": [
      "Too much tries\n",
      "Too much tries\n",
      "Too much tries\n",
      "Too much tries\n",
      "Too much tries\n",
      "Too much tries\n",
      "Too much tries\n",
      "Too much tries\n",
      "Too much tries\n",
      "Too much tries\n",
      "Too much tries\n",
      "Too much tries\n",
      "Too much tries\n",
      "Too much tries\n",
      "Too much tries\n",
      "Too much tries\n",
      "Too much tries\n",
      "Too much tries\n",
      "Too much tries\n",
      "Too much tries\n",
      "Too much tries\n"
     ]
    },
    {
     "name": "stderr",
     "output_type": "stream",
     "text": [
      "  1%|▎                                   | 1478/163886 [00:13<26:21, 102.67it/s]"
     ]
    },
    {
     "name": "stdout",
     "output_type": "stream",
     "text": [
      "Too much tries\n",
      "Too much tries\n",
      "Too much tries\n",
      "Too much tries\n",
      "Too much tries\n",
      "Too much tries\n",
      "Too much tries\n",
      "Too much tries\n",
      "Too much tries\n",
      "Too much tries\n",
      "Too much tries\n",
      "Too much tries\n",
      "Too much tries\n"
     ]
    },
    {
     "name": "stderr",
     "output_type": "stream",
     "text": [
      "  1%|▎                                   | 1503/163886 [00:13<24:26, 110.74it/s]"
     ]
    },
    {
     "name": "stdout",
     "output_type": "stream",
     "text": [
      "Too much tries\n",
      "Too much tries\n",
      "Too much tries\n",
      "Too much tries\n",
      "Too much tries\n",
      "Too much tries\n",
      "Too much tries\n",
      "Too much tries\n",
      "Too much tries\n",
      "Too much tries\n"
     ]
    },
    {
     "name": "stderr",
     "output_type": "stream",
     "text": [
      "  1%|▎                                   | 1541/163886 [00:13<22:57, 117.89it/s]"
     ]
    },
    {
     "name": "stdout",
     "output_type": "stream",
     "text": [
      "Too much tries\n",
      "Too much tries\n",
      "Too much tries\n",
      "Too much tries\n",
      "Too much tries\n",
      "Too much tries\n",
      "Too much tries\n",
      "Too much tries\n",
      "Too much tries\n",
      "Too much tries\n",
      "Too much tries\n",
      "Too much tries\n"
     ]
    },
    {
     "name": "stderr",
     "output_type": "stream",
     "text": [
      "  1%|▎                                   | 1579/163886 [00:14<22:38, 119.48it/s]"
     ]
    },
    {
     "name": "stdout",
     "output_type": "stream",
     "text": [
      "Too much tries\n",
      "Too much tries\n",
      "Too much tries\n",
      "Too much tries\n",
      "Too much tries\n",
      "Too much tries\n"
     ]
    },
    {
     "name": "stderr",
     "output_type": "stream",
     "text": [
      "  1%|▎                                   | 1603/163886 [00:14<23:00, 117.55it/s]"
     ]
    },
    {
     "name": "stdout",
     "output_type": "stream",
     "text": [
      "Too much tries\n",
      "Too much tries\n",
      "Too much tries\n",
      "Too much tries\n",
      "Too much tries\n",
      "Too much tries\n",
      "Too much tries\n",
      "Too much tries\n",
      "Too much tries\n",
      "Too much tries\n",
      "Too much tries\n",
      "Too much tries\n",
      "Too much tries\n"
     ]
    },
    {
     "name": "stderr",
     "output_type": "stream",
     "text": [
      "  1%|▎                                   | 1627/163886 [00:14<23:05, 117.13it/s]"
     ]
    },
    {
     "name": "stdout",
     "output_type": "stream",
     "text": [
      "Too much tries\n",
      "Too much tries\n",
      "Too much tries\n",
      "Too much tries\n",
      "Too much tries\n",
      "Too much tries\n",
      "Too much tries\n",
      "Too much tries\n",
      "Too much tries\n",
      "Too much tries\n",
      "Too much tries\n",
      "Too much tries\n",
      "Too much tries\n"
     ]
    },
    {
     "name": "stderr",
     "output_type": "stream",
     "text": [
      "  1%|▎                                   | 1653/163886 [00:14<22:35, 119.70it/s]"
     ]
    },
    {
     "name": "stdout",
     "output_type": "stream",
     "text": [
      "Too much tries\n",
      "Too much tries\n",
      "Too much tries\n",
      "Too much tries\n",
      "Too much tries\n",
      "Too much tries\n",
      "Too much tries\n",
      "Too much tries\n",
      "Too much tries\n"
     ]
    },
    {
     "name": "stderr",
     "output_type": "stream",
     "text": [
      "  1%|▎                                   | 1677/163886 [00:14<23:06, 116.96it/s]"
     ]
    },
    {
     "name": "stdout",
     "output_type": "stream",
     "text": [
      "Too much tries\n",
      "Too much tries\n",
      "Too much tries\n",
      "Too much tries\n",
      "Too much tries\n",
      "Too much tries\n",
      "Too much tries\n",
      "Too much tries\n",
      "Too much tries\n",
      "Too much tries\n"
     ]
    },
    {
     "name": "stderr",
     "output_type": "stream",
     "text": [
      "  1%|▎                                   | 1701/163886 [00:15<23:04, 117.17it/s]"
     ]
    },
    {
     "name": "stdout",
     "output_type": "stream",
     "text": [
      "Too much tries\n",
      "Too much tries\n",
      "Too much tries\n",
      "Too much tries\n",
      "Too much tries\n",
      "Too much tries\n",
      "Too much tries\n",
      "Too much tries\n",
      "Too much tries\n"
     ]
    },
    {
     "name": "stderr",
     "output_type": "stream",
     "text": [
      "  1%|▍                                   | 1754/163886 [00:15<21:37, 124.97it/s]"
     ]
    },
    {
     "name": "stdout",
     "output_type": "stream",
     "text": [
      "Too much tries\n",
      "Too much tries\n"
     ]
    },
    {
     "name": "stderr",
     "output_type": "stream",
     "text": [
      "  1%|▍                                   | 1781/163886 [00:15<21:29, 125.72it/s]"
     ]
    },
    {
     "name": "stdout",
     "output_type": "stream",
     "text": [
      "Too much tries\n",
      "Too much tries\n",
      "Too much tries\n",
      "Too much tries\n"
     ]
    },
    {
     "name": "stderr",
     "output_type": "stream",
     "text": [
      "  1%|▍                                   | 1823/163886 [00:16<20:29, 131.86it/s]"
     ]
    },
    {
     "name": "stdout",
     "output_type": "stream",
     "text": [
      "Too much tries\n",
      "Too much tries\n"
     ]
    },
    {
     "name": "stderr",
     "output_type": "stream",
     "text": [
      "  1%|▍                                   | 1866/163886 [00:16<19:57, 135.26it/s]"
     ]
    },
    {
     "name": "stdout",
     "output_type": "stream",
     "text": [
      "Too much tries\n"
     ]
    },
    {
     "name": "stderr",
     "output_type": "stream",
     "text": [
      "  1%|▍                                   | 1894/163886 [00:16<20:09, 133.93it/s]"
     ]
    },
    {
     "name": "stdout",
     "output_type": "stream",
     "text": [
      "Too much tries\n",
      "Too much tries\n",
      "Too much tries\n",
      "Too much tries\n",
      "Too much tries\n"
     ]
    },
    {
     "name": "stderr",
     "output_type": "stream",
     "text": [
      "  1%|▍                                   | 1922/163886 [00:16<20:38, 130.81it/s]"
     ]
    },
    {
     "name": "stdout",
     "output_type": "stream",
     "text": [
      "Too much tries\n",
      "Too much tries\n",
      "Too much tries\n",
      "Too much tries\n",
      "Too much tries\n"
     ]
    },
    {
     "name": "stderr",
     "output_type": "stream",
     "text": [
      "  1%|▍                                   | 1950/163886 [00:16<20:32, 131.39it/s]"
     ]
    },
    {
     "name": "stdout",
     "output_type": "stream",
     "text": [
      "Too much tries\n",
      "Too much tries\n",
      "Too much tries\n"
     ]
    },
    {
     "name": "stderr",
     "output_type": "stream",
     "text": [
      "  1%|▍                                   | 1978/163886 [00:17<20:30, 131.59it/s]"
     ]
    },
    {
     "name": "stdout",
     "output_type": "stream",
     "text": [
      "Too much tries\n",
      "Too much tries\n",
      "Too much tries\n"
     ]
    },
    {
     "name": "stderr",
     "output_type": "stream",
     "text": [
      "  1%|▍                                   | 2006/163886 [00:17<20:12, 133.52it/s]"
     ]
    },
    {
     "name": "stdout",
     "output_type": "stream",
     "text": [
      "Too much tries\n",
      "Too much tries\n",
      "Too much tries\n"
     ]
    },
    {
     "name": "stderr",
     "output_type": "stream",
     "text": [
      "  1%|▍                                   | 2049/163886 [00:17<19:42, 136.85it/s]"
     ]
    },
    {
     "name": "stdout",
     "output_type": "stream",
     "text": [
      "Too much tries\n",
      "Too much tries\n",
      "Too much tries\n"
     ]
    },
    {
     "name": "stderr",
     "output_type": "stream",
     "text": [
      "  1%|▍                                   | 2079/163886 [00:17<19:02, 141.60it/s]"
     ]
    },
    {
     "name": "stdout",
     "output_type": "stream",
     "text": [
      "Too much tries\n"
     ]
    },
    {
     "name": "stderr",
     "output_type": "stream",
     "text": [
      "  1%|▍                                   | 2124/163886 [00:18<19:03, 141.41it/s]"
     ]
    },
    {
     "name": "stdout",
     "output_type": "stream",
     "text": [
      "Too much tries\n",
      "Too much tries\n"
     ]
    },
    {
     "name": "stderr",
     "output_type": "stream",
     "text": [
      "  1%|▍                                   | 2274/163886 [00:19<19:12, 140.25it/s]"
     ]
    },
    {
     "name": "stdout",
     "output_type": "stream",
     "text": [
      "Too much tries\n",
      "Too much tries\n",
      "Too much tries\n"
     ]
    },
    {
     "name": "stderr",
     "output_type": "stream",
     "text": [
      "  1%|▌                                   | 2303/163886 [00:19<19:54, 135.25it/s]"
     ]
    },
    {
     "name": "stdout",
     "output_type": "stream",
     "text": [
      "Too much tries\n"
     ]
    },
    {
     "name": "stderr",
     "output_type": "stream",
     "text": [
      "  2%|▌                                   | 2498/163886 [00:21<20:57, 128.33it/s]"
     ]
    },
    {
     "name": "stdout",
     "output_type": "stream",
     "text": [
      "Too much tries\n",
      "Too much tries\n",
      "Too much tries\n",
      "Too much tries\n"
     ]
    },
    {
     "name": "stderr",
     "output_type": "stream",
     "text": [
      "  2%|▌                                   | 2537/163886 [00:21<21:52, 122.98it/s]"
     ]
    },
    {
     "name": "stdout",
     "output_type": "stream",
     "text": [
      "Too much tries\n"
     ]
    },
    {
     "name": "stderr",
     "output_type": "stream",
     "text": [
      "  2%|▌                                   | 2722/163886 [00:22<19:20, 138.87it/s]"
     ]
    },
    {
     "name": "stdout",
     "output_type": "stream",
     "text": [
      "Too much tries\n",
      "Too much tries\n"
     ]
    },
    {
     "name": "stderr",
     "output_type": "stream",
     "text": [
      "  2%|▌                                   | 2822/163886 [00:23<20:30, 130.88it/s]"
     ]
    },
    {
     "name": "stdout",
     "output_type": "stream",
     "text": [
      "Too much tries\n",
      "Too much tries\n",
      "Too much tries\n"
     ]
    },
    {
     "name": "stderr",
     "output_type": "stream",
     "text": [
      "  2%|▋                                   | 2907/163886 [00:24<19:34, 137.05it/s]"
     ]
    },
    {
     "name": "stdout",
     "output_type": "stream",
     "text": [
      "Too much tries\n",
      "Too much tries\n"
     ]
    },
    {
     "name": "stderr",
     "output_type": "stream",
     "text": [
      "  2%|▋                                   | 3034/163886 [00:25<19:43, 135.97it/s]"
     ]
    },
    {
     "name": "stdout",
     "output_type": "stream",
     "text": [
      "Too much tries\n"
     ]
    },
    {
     "name": "stderr",
     "output_type": "stream",
     "text": [
      "  2%|▋                                   | 3062/163886 [00:25<19:49, 135.17it/s]"
     ]
    },
    {
     "name": "stdout",
     "output_type": "stream",
     "text": [
      "Too much tries\n"
     ]
    },
    {
     "name": "stderr",
     "output_type": "stream",
     "text": [
      "  2%|▋                                   | 3104/163886 [00:25<19:58, 134.14it/s]"
     ]
    },
    {
     "name": "stdout",
     "output_type": "stream",
     "text": [
      "Too much tries\n",
      "Too much tries\n",
      "Too much tries\n",
      "Too much tries\n",
      "Too much tries\n"
     ]
    },
    {
     "name": "stderr",
     "output_type": "stream",
     "text": [
      "  2%|▋                                   | 3133/163886 [00:25<19:39, 136.27it/s]"
     ]
    },
    {
     "name": "stdout",
     "output_type": "stream",
     "text": [
      "Too much tries\n"
     ]
    },
    {
     "name": "stderr",
     "output_type": "stream",
     "text": [
      "  2%|▋                                   | 3207/163886 [00:26<19:12, 139.37it/s]"
     ]
    },
    {
     "name": "stdout",
     "output_type": "stream",
     "text": [
      "Too much tries\n"
     ]
    },
    {
     "name": "stderr",
     "output_type": "stream",
     "text": [
      "  2%|▋                                   | 3346/163886 [00:27<23:05, 115.85it/s]"
     ]
    },
    {
     "name": "stdout",
     "output_type": "stream",
     "text": [
      "Too much tries\n"
     ]
    },
    {
     "name": "stderr",
     "output_type": "stream",
     "text": [
      "  2%|▊                                   | 3464/163886 [00:28<20:51, 128.18it/s]"
     ]
    },
    {
     "name": "stdout",
     "output_type": "stream",
     "text": [
      "Too much tries\n"
     ]
    },
    {
     "name": "stderr",
     "output_type": "stream",
     "text": [
      "  2%|▊                                   | 3535/163886 [00:28<20:05, 133.00it/s]"
     ]
    },
    {
     "name": "stdout",
     "output_type": "stream",
     "text": [
      "Too much tries\n"
     ]
    },
    {
     "name": "stderr",
     "output_type": "stream",
     "text": [
      "  2%|▊                                   | 3622/163886 [00:29<19:27, 137.26it/s]"
     ]
    },
    {
     "name": "stdout",
     "output_type": "stream",
     "text": [
      "Too much tries\n",
      "Too much tries\n"
     ]
    },
    {
     "name": "stderr",
     "output_type": "stream",
     "text": [
      "  2%|▊                                   | 3679/163886 [00:30<20:19, 131.34it/s]"
     ]
    },
    {
     "name": "stdout",
     "output_type": "stream",
     "text": [
      "Too much tries\n"
     ]
    },
    {
     "name": "stderr",
     "output_type": "stream",
     "text": [
      "  2%|▊                                   | 3798/163886 [00:30<19:04, 139.82it/s]"
     ]
    },
    {
     "name": "stdout",
     "output_type": "stream",
     "text": [
      "Too much tries\n"
     ]
    },
    {
     "name": "stderr",
     "output_type": "stream",
     "text": [
      "  2%|▊                                   | 3827/163886 [00:31<19:36, 136.09it/s]"
     ]
    },
    {
     "name": "stdout",
     "output_type": "stream",
     "text": [
      "Too much tries\n"
     ]
    },
    {
     "name": "stderr",
     "output_type": "stream",
     "text": [
      "  2%|▊                                   | 3855/163886 [00:31<21:33, 123.77it/s]"
     ]
    },
    {
     "name": "stdout",
     "output_type": "stream",
     "text": [
      "Too much tries\n"
     ]
    },
    {
     "name": "stderr",
     "output_type": "stream",
     "text": [
      "  2%|▊                                   | 3934/163886 [00:32<20:35, 129.51it/s]"
     ]
    },
    {
     "name": "stdout",
     "output_type": "stream",
     "text": [
      "Too much tries\n",
      "Too much tries\n"
     ]
    },
    {
     "name": "stderr",
     "output_type": "stream",
     "text": [
      "  2%|▉                                   | 4006/163886 [00:32<20:01, 133.05it/s]"
     ]
    },
    {
     "name": "stdout",
     "output_type": "stream",
     "text": [
      "Too much tries\n",
      "Too much tries\n"
     ]
    },
    {
     "name": "stderr",
     "output_type": "stream",
     "text": [
      "  2%|▉                                   | 4020/163886 [00:32<19:52, 134.11it/s]"
     ]
    },
    {
     "name": "stdout",
     "output_type": "stream",
     "text": [
      "Too much tries\n"
     ]
    },
    {
     "name": "stderr",
     "output_type": "stream",
     "text": [
      "  2%|▉                                   | 4077/163886 [00:33<19:27, 136.92it/s]"
     ]
    },
    {
     "name": "stdout",
     "output_type": "stream",
     "text": [
      "Too much tries\n"
     ]
    },
    {
     "name": "stderr",
     "output_type": "stream",
     "text": [
      "  3%|▉                                   | 4255/163886 [00:34<18:21, 144.88it/s]"
     ]
    },
    {
     "name": "stdout",
     "output_type": "stream",
     "text": [
      "Too much tries\n",
      "Too much tries\n"
     ]
    },
    {
     "name": "stderr",
     "output_type": "stream",
     "text": [
      "  3%|▉                                   | 4401/163886 [00:35<19:53, 133.60it/s]"
     ]
    },
    {
     "name": "stdout",
     "output_type": "stream",
     "text": [
      "Too much tries\n",
      "Too much tries\n",
      "Too much tries\n"
     ]
    },
    {
     "name": "stderr",
     "output_type": "stream",
     "text": [
      "  3%|▉                                   | 4483/163886 [00:36<21:45, 122.12it/s]"
     ]
    },
    {
     "name": "stdout",
     "output_type": "stream",
     "text": [
      "Too much tries\n",
      "Too much tries\n"
     ]
    },
    {
     "name": "stderr",
     "output_type": "stream",
     "text": [
      "  3%|█                                   | 4553/163886 [00:36<19:47, 134.16it/s]"
     ]
    },
    {
     "name": "stdout",
     "output_type": "stream",
     "text": [
      "Too much tries\n"
     ]
    },
    {
     "name": "stderr",
     "output_type": "stream",
     "text": [
      "  3%|█                                   | 4736/163886 [00:38<20:49, 127.37it/s]"
     ]
    },
    {
     "name": "stdout",
     "output_type": "stream",
     "text": [
      "Too much tries\n"
     ]
    },
    {
     "name": "stderr",
     "output_type": "stream",
     "text": [
      "  3%|█                                   | 4794/163886 [00:38<19:28, 136.18it/s]"
     ]
    },
    {
     "name": "stdout",
     "output_type": "stream",
     "text": [
      "Too much tries\n"
     ]
    },
    {
     "name": "stderr",
     "output_type": "stream",
     "text": [
      "  3%|█▏                                  | 5195/163886 [00:41<17:57, 147.29it/s]"
     ]
    },
    {
     "name": "stdout",
     "output_type": "stream",
     "text": [
      "Too much tries\n",
      "Too much tries\n"
     ]
    },
    {
     "name": "stderr",
     "output_type": "stream",
     "text": [
      "  3%|█▏                                  | 5225/163886 [00:41<18:18, 144.47it/s]"
     ]
    },
    {
     "name": "stdout",
     "output_type": "stream",
     "text": [
      "Too much tries\n"
     ]
    },
    {
     "name": "stderr",
     "output_type": "stream",
     "text": [
      "  3%|█▏                                  | 5326/163886 [00:42<19:28, 135.73it/s]"
     ]
    },
    {
     "name": "stdout",
     "output_type": "stream",
     "text": [
      "Too much tries\n"
     ]
    },
    {
     "name": "stderr",
     "output_type": "stream",
     "text": [
      "  3%|█▏                                  | 5666/163886 [00:44<20:12, 130.49it/s]"
     ]
    },
    {
     "name": "stdout",
     "output_type": "stream",
     "text": [
      "Too much tries\n",
      "Too much tries\n"
     ]
    },
    {
     "name": "stderr",
     "output_type": "stream",
     "text": [
      "  3%|█▎                                  | 5718/163886 [00:45<25:55, 101.71it/s]"
     ]
    },
    {
     "name": "stdout",
     "output_type": "stream",
     "text": [
      "Too much tries\n",
      "Too much tries\n"
     ]
    },
    {
     "name": "stderr",
     "output_type": "stream",
     "text": [
      "  4%|█▎                                   | 5739/163886 [00:45<27:49, 94.72it/s]"
     ]
    },
    {
     "name": "stdout",
     "output_type": "stream",
     "text": [
      "Too much tries\n",
      "Too much tries\n",
      "Too much tries\n",
      "Too much tries\n"
     ]
    },
    {
     "name": "stderr",
     "output_type": "stream",
     "text": [
      "  4%|█▎                                  | 5765/163886 [00:45<24:32, 107.36it/s]"
     ]
    },
    {
     "name": "stdout",
     "output_type": "stream",
     "text": [
      "Too much tries\n",
      "Too much tries\n"
     ]
    },
    {
     "name": "stderr",
     "output_type": "stream",
     "text": [
      "  4%|█▎                                  | 5926/163886 [00:47<22:24, 117.52it/s]"
     ]
    },
    {
     "name": "stdout",
     "output_type": "stream",
     "text": [
      "Too much tries\n"
     ]
    },
    {
     "name": "stderr",
     "output_type": "stream",
     "text": [
      "  4%|█▎                                  | 6054/163886 [00:48<20:42, 127.02it/s]"
     ]
    },
    {
     "name": "stdout",
     "output_type": "stream",
     "text": [
      "Too much tries\n",
      "Too much tries\n"
     ]
    },
    {
     "name": "stderr",
     "output_type": "stream",
     "text": [
      "  4%|█▎                                  | 6096/163886 [00:48<19:49, 132.70it/s]"
     ]
    },
    {
     "name": "stdout",
     "output_type": "stream",
     "text": [
      "Too much tries\n",
      "Too much tries\n",
      "Too much tries\n"
     ]
    },
    {
     "name": "stderr",
     "output_type": "stream",
     "text": [
      "  4%|█▍                                  | 6274/163886 [00:50<21:05, 124.55it/s]"
     ]
    },
    {
     "name": "stdout",
     "output_type": "stream",
     "text": [
      "Too much tries\n"
     ]
    },
    {
     "name": "stderr",
     "output_type": "stream",
     "text": [
      "  4%|█▍                                  | 6319/163886 [00:50<19:01, 138.01it/s]"
     ]
    },
    {
     "name": "stdout",
     "output_type": "stream",
     "text": [
      "Too much tries\n"
     ]
    },
    {
     "name": "stderr",
     "output_type": "stream",
     "text": [
      "  4%|█▍                                  | 6501/163886 [00:51<18:04, 145.18it/s]"
     ]
    },
    {
     "name": "stdout",
     "output_type": "stream",
     "text": [
      "Too much tries\n"
     ]
    },
    {
     "name": "stderr",
     "output_type": "stream",
     "text": [
      "  4%|█▌                                  | 6937/163886 [00:54<18:35, 140.67it/s]"
     ]
    },
    {
     "name": "stdout",
     "output_type": "stream",
     "text": [
      "Too much tries\n"
     ]
    },
    {
     "name": "stderr",
     "output_type": "stream",
     "text": [
      "  4%|█▌                                  | 7010/163886 [00:55<18:58, 137.80it/s]"
     ]
    },
    {
     "name": "stdout",
     "output_type": "stream",
     "text": [
      "Too much tries\n",
      "Too much tries\n"
     ]
    },
    {
     "name": "stderr",
     "output_type": "stream",
     "text": [
      "  4%|█▌                                  | 7086/163886 [00:55<18:24, 142.02it/s]"
     ]
    },
    {
     "name": "stdout",
     "output_type": "stream",
     "text": [
      "Too much tries\n"
     ]
    },
    {
     "name": "stderr",
     "output_type": "stream",
     "text": [
      "  4%|█▌                                  | 7146/163886 [00:56<18:19, 142.53it/s]"
     ]
    },
    {
     "name": "stdout",
     "output_type": "stream",
     "text": [
      "Too much tries\n"
     ]
    },
    {
     "name": "stderr",
     "output_type": "stream",
     "text": [
      "  5%|█▋                                  | 7428/163886 [00:58<17:23, 149.97it/s]"
     ]
    },
    {
     "name": "stdout",
     "output_type": "stream",
     "text": [
      "Too much tries\n"
     ]
    },
    {
     "name": "stderr",
     "output_type": "stream",
     "text": [
      "  5%|█▋                                  | 7581/163886 [00:59<17:44, 146.84it/s]"
     ]
    },
    {
     "name": "stdout",
     "output_type": "stream",
     "text": [
      "Too much tries\n"
     ]
    },
    {
     "name": "stderr",
     "output_type": "stream",
     "text": [
      "  5%|█▋                                  | 7674/163886 [00:59<18:04, 144.00it/s]"
     ]
    },
    {
     "name": "stdout",
     "output_type": "stream",
     "text": [
      "Too much tries\n",
      "Too much tries\n"
     ]
    },
    {
     "name": "stderr",
     "output_type": "stream",
     "text": [
      "  5%|█▋                                  | 7780/163886 [01:00<18:02, 144.15it/s]"
     ]
    },
    {
     "name": "stdout",
     "output_type": "stream",
     "text": [
      "Too much tries\n"
     ]
    },
    {
     "name": "stderr",
     "output_type": "stream",
     "text": [
      "  5%|█▉                                  | 8660/163886 [01:06<18:35, 139.19it/s]"
     ]
    },
    {
     "name": "stdout",
     "output_type": "stream",
     "text": [
      "Too much tries\n"
     ]
    },
    {
     "name": "stderr",
     "output_type": "stream",
     "text": [
      "  6%|██                                  | 9576/163886 [01:13<17:16, 148.89it/s]"
     ]
    },
    {
     "name": "stdout",
     "output_type": "stream",
     "text": [
      "Too much tries\n"
     ]
    },
    {
     "name": "stderr",
     "output_type": "stream",
     "text": [
      "  7%|██▌                                | 11770/163886 [01:27<16:45, 151.31it/s]"
     ]
    },
    {
     "name": "stdout",
     "output_type": "stream",
     "text": [
      "Too much tries\n"
     ]
    },
    {
     "name": "stderr",
     "output_type": "stream",
     "text": [
      "  7%|██▌                                | 12134/163886 [01:30<19:07, 132.27it/s]"
     ]
    },
    {
     "name": "stdout",
     "output_type": "stream",
     "text": [
      "Too much tries\n"
     ]
    },
    {
     "name": "stderr",
     "output_type": "stream",
     "text": [
      "  8%|██▋                                | 12660/163886 [01:34<16:38, 151.43it/s]"
     ]
    },
    {
     "name": "stdout",
     "output_type": "stream",
     "text": [
      "Too much tries\n"
     ]
    },
    {
     "name": "stderr",
     "output_type": "stream",
     "text": [
      "  8%|██▊                                | 13022/163886 [01:36<17:14, 145.79it/s]"
     ]
    },
    {
     "name": "stdout",
     "output_type": "stream",
     "text": [
      "Too much tries\n",
      "Too much tries\n",
      "Too much tries\n"
     ]
    },
    {
     "name": "stderr",
     "output_type": "stream",
     "text": [
      "  8%|██▊                                | 13195/163886 [01:37<17:02, 147.37it/s]"
     ]
    },
    {
     "name": "stdout",
     "output_type": "stream",
     "text": [
      "Too much tries\n"
     ]
    },
    {
     "name": "stderr",
     "output_type": "stream",
     "text": [
      "  8%|██▉                                | 13720/163886 [01:41<17:36, 142.19it/s]"
     ]
    },
    {
     "name": "stdout",
     "output_type": "stream",
     "text": [
      "Too much tries\n"
     ]
    },
    {
     "name": "stderr",
     "output_type": "stream",
     "text": [
      "  8%|██▉                                | 13798/163886 [01:41<16:46, 149.13it/s]"
     ]
    },
    {
     "name": "stdout",
     "output_type": "stream",
     "text": [
      "Too much tries\n"
     ]
    },
    {
     "name": "stderr",
     "output_type": "stream",
     "text": [
      "  9%|███                                | 14305/163886 [01:45<16:39, 149.62it/s]"
     ]
    },
    {
     "name": "stdout",
     "output_type": "stream",
     "text": [
      "Too much tries\n"
     ]
    },
    {
     "name": "stderr",
     "output_type": "stream",
     "text": [
      "  9%|███                                | 14367/163886 [01:45<16:46, 148.54it/s]"
     ]
    },
    {
     "name": "stdout",
     "output_type": "stream",
     "text": [
      "Too much tries\n"
     ]
    },
    {
     "name": "stderr",
     "output_type": "stream",
     "text": [
      "  9%|███▎                               | 15526/163886 [01:53<16:52, 146.47it/s]"
     ]
    },
    {
     "name": "stdout",
     "output_type": "stream",
     "text": [
      "Too much tries\n"
     ]
    },
    {
     "name": "stderr",
     "output_type": "stream",
     "text": [
      " 10%|███▎                               | 15777/163886 [01:55<16:16, 151.72it/s]"
     ]
    },
    {
     "name": "stdout",
     "output_type": "stream",
     "text": [
      "Too much tries\n"
     ]
    },
    {
     "name": "stderr",
     "output_type": "stream",
     "text": [
      " 11%|███▋                               | 17256/163886 [02:05<16:27, 148.54it/s]"
     ]
    },
    {
     "name": "stdout",
     "output_type": "stream",
     "text": [
      "Too much tries\n"
     ]
    },
    {
     "name": "stderr",
     "output_type": "stream",
     "text": [
      " 12%|████▎                              | 20316/163886 [02:26<16:03, 148.93it/s]"
     ]
    },
    {
     "name": "stdout",
     "output_type": "stream",
     "text": [
      "Too much tries\n"
     ]
    },
    {
     "name": "stderr",
     "output_type": "stream",
     "text": [
      " 25%|████████▉                          | 41721/163886 [04:49<15:33, 130.89it/s]"
     ]
    },
    {
     "name": "stdout",
     "output_type": "stream",
     "text": [
      "Too much tries\n"
     ]
    },
    {
     "name": "stderr",
     "output_type": "stream",
     "text": [
      " 26%|█████████▎                         | 43406/163886 [05:00<13:10, 152.45it/s]"
     ]
    },
    {
     "name": "stdout",
     "output_type": "stream",
     "text": [
      "Too much tries\n"
     ]
    },
    {
     "name": "stderr",
     "output_type": "stream",
     "text": [
      " 27%|█████████▍                         | 44019/163886 [05:05<13:49, 144.49it/s]"
     ]
    },
    {
     "name": "stdout",
     "output_type": "stream",
     "text": [
      "Too much tries\n"
     ]
    },
    {
     "name": "stderr",
     "output_type": "stream",
     "text": [
      " 33%|███████████▋                       | 54435/163886 [06:17<16:43, 109.06it/s]"
     ]
    },
    {
     "name": "stdout",
     "output_type": "stream",
     "text": [
      "Too much tries\n",
      "Too much tries\n",
      "Too much tries\n",
      "Too much tries\n"
     ]
    },
    {
     "name": "stderr",
     "output_type": "stream",
     "text": [
      " 33%|███████████▋                       | 54459/163886 [06:17<17:33, 103.88it/s]"
     ]
    },
    {
     "name": "stdout",
     "output_type": "stream",
     "text": [
      "Too much tries\n",
      "Too much tries\n",
      "Too much tries\n",
      "Too much tries\n",
      "Too much tries\n",
      "Too much tries\n",
      "Too much tries\n"
     ]
    },
    {
     "name": "stderr",
     "output_type": "stream",
     "text": [
      " 33%|███████████▋                       | 54755/163886 [06:20<15:15, 119.16it/s]"
     ]
    },
    {
     "name": "stdout",
     "output_type": "stream",
     "text": [
      "Too much tries\n",
      "Too much tries\n",
      "Too much tries\n",
      "Too much tries\n",
      "Too much tries\n"
     ]
    },
    {
     "name": "stderr",
     "output_type": "stream",
     "text": [
      " 34%|███████████▋                       | 54953/163886 [06:22<14:23, 126.11it/s]"
     ]
    },
    {
     "name": "stdout",
     "output_type": "stream",
     "text": [
      "Too much tries\n",
      "Too much tries\n",
      "Too much tries\n",
      "Too much tries\n",
      "Too much tries\n"
     ]
    },
    {
     "name": "stderr",
     "output_type": "stream",
     "text": [
      " 34%|███████████▊                       | 55067/163886 [06:22<13:37, 133.08it/s]"
     ]
    },
    {
     "name": "stdout",
     "output_type": "stream",
     "text": [
      "Too much tries\n"
     ]
    },
    {
     "name": "stderr",
     "output_type": "stream",
     "text": [
      " 34%|███████████▊                       | 55183/163886 [06:23<12:52, 140.80it/s]"
     ]
    },
    {
     "name": "stdout",
     "output_type": "stream",
     "text": [
      "Too much tries\n"
     ]
    },
    {
     "name": "stderr",
     "output_type": "stream",
     "text": [
      " 34%|███████████▊                       | 55212/163886 [06:23<13:29, 134.29it/s]"
     ]
    },
    {
     "name": "stdout",
     "output_type": "stream",
     "text": [
      "Too much tries\n",
      "Too much tries\n"
     ]
    },
    {
     "name": "stderr",
     "output_type": "stream",
     "text": [
      " 34%|███████████▊                       | 55298/163886 [06:24<13:38, 132.71it/s]"
     ]
    },
    {
     "name": "stdout",
     "output_type": "stream",
     "text": [
      "Too much tries\n",
      "Too much tries\n",
      "Too much tries\n"
     ]
    },
    {
     "name": "stderr",
     "output_type": "stream",
     "text": [
      " 34%|███████████▉                       | 56004/163886 [06:29<12:21, 145.54it/s]"
     ]
    },
    {
     "name": "stdout",
     "output_type": "stream",
     "text": [
      "Too much tries\n"
     ]
    },
    {
     "name": "stderr",
     "output_type": "stream",
     "text": [
      " 34%|████████████                       | 56277/163886 [06:31<12:24, 144.54it/s]"
     ]
    },
    {
     "name": "stdout",
     "output_type": "stream",
     "text": [
      "Too much tries\n"
     ]
    },
    {
     "name": "stderr",
     "output_type": "stream",
     "text": [
      " 34%|████████████                       | 56455/163886 [06:32<12:18, 145.51it/s]"
     ]
    },
    {
     "name": "stdout",
     "output_type": "stream",
     "text": [
      "Too much tries\n"
     ]
    },
    {
     "name": "stderr",
     "output_type": "stream",
     "text": [
      " 35%|████████████▏                      | 56880/163886 [06:35<13:31, 131.79it/s]"
     ]
    },
    {
     "name": "stdout",
     "output_type": "stream",
     "text": [
      "Too much tries\n"
     ]
    },
    {
     "name": "stderr",
     "output_type": "stream",
     "text": [
      " 35%|████████████▏                      | 57029/163886 [06:36<12:19, 144.58it/s]"
     ]
    },
    {
     "name": "stdout",
     "output_type": "stream",
     "text": [
      "Too much tries\n"
     ]
    },
    {
     "name": "stderr",
     "output_type": "stream",
     "text": [
      " 36%|████████████▌                      | 58692/163886 [06:48<12:26, 140.87it/s]"
     ]
    },
    {
     "name": "stdout",
     "output_type": "stream",
     "text": [
      "Too much tries\n",
      "Too much tries\n",
      "Too much tries\n"
     ]
    },
    {
     "name": "stderr",
     "output_type": "stream",
     "text": [
      " 36%|████████████▌                      | 58795/163886 [06:49<12:52, 136.03it/s]"
     ]
    },
    {
     "name": "stdout",
     "output_type": "stream",
     "text": [
      "Too much tries\n"
     ]
    },
    {
     "name": "stderr",
     "output_type": "stream",
     "text": [
      " 36%|████████████▌                      | 58851/163886 [06:49<13:04, 133.90it/s]"
     ]
    },
    {
     "name": "stdout",
     "output_type": "stream",
     "text": [
      "Too much tries\n"
     ]
    },
    {
     "name": "stderr",
     "output_type": "stream",
     "text": [
      " 36%|████████████▌                      | 58942/163886 [06:50<12:11, 143.48it/s]"
     ]
    },
    {
     "name": "stdout",
     "output_type": "stream",
     "text": [
      "Too much tries\n"
     ]
    },
    {
     "name": "stderr",
     "output_type": "stream",
     "text": [
      " 36%|████████████▋                      | 59446/163886 [06:54<12:04, 144.15it/s]"
     ]
    },
    {
     "name": "stdout",
     "output_type": "stream",
     "text": [
      "Too much tries\n"
     ]
    },
    {
     "name": "stderr",
     "output_type": "stream",
     "text": [
      " 37%|████████████▊                      | 60022/163886 [06:58<14:21, 120.57it/s]"
     ]
    },
    {
     "name": "stdout",
     "output_type": "stream",
     "text": [
      "Too much tries\n",
      "Too much tries\n"
     ]
    },
    {
     "name": "stderr",
     "output_type": "stream",
     "text": [
      " 37%|████████████▉                      | 60342/163886 [07:00<15:00, 115.05it/s]"
     ]
    },
    {
     "name": "stdout",
     "output_type": "stream",
     "text": [
      "Too much tries\n"
     ]
    },
    {
     "name": "stderr",
     "output_type": "stream",
     "text": [
      " 37%|████████████▉                      | 60712/163886 [07:03<13:59, 122.86it/s]"
     ]
    },
    {
     "name": "stdout",
     "output_type": "stream",
     "text": [
      "Too much tries\n",
      "Too much tries\n",
      "Too much tries\n"
     ]
    },
    {
     "name": "stderr",
     "output_type": "stream",
     "text": [
      " 37%|█████████████                      | 60894/163886 [07:04<12:06, 141.74it/s]"
     ]
    },
    {
     "name": "stdout",
     "output_type": "stream",
     "text": [
      "Too much tries\n",
      "Too much tries\n"
     ]
    },
    {
     "name": "stderr",
     "output_type": "stream",
     "text": [
      " 37%|█████████████                      | 61155/163886 [07:06<11:38, 147.10it/s]"
     ]
    },
    {
     "name": "stdout",
     "output_type": "stream",
     "text": [
      "Too much tries\n"
     ]
    },
    {
     "name": "stderr",
     "output_type": "stream",
     "text": [
      " 37%|█████████████                      | 61439/163886 [07:08<12:41, 134.53it/s]"
     ]
    },
    {
     "name": "stdout",
     "output_type": "stream",
     "text": [
      "Too much tries\n"
     ]
    },
    {
     "name": "stderr",
     "output_type": "stream",
     "text": [
      " 38%|█████████████▏                     | 61545/163886 [07:09<12:25, 137.25it/s]"
     ]
    },
    {
     "name": "stdout",
     "output_type": "stream",
     "text": [
      "Too much tries\n"
     ]
    },
    {
     "name": "stderr",
     "output_type": "stream",
     "text": [
      " 38%|█████████████▏                     | 61922/163886 [07:12<12:11, 139.32it/s]"
     ]
    },
    {
     "name": "stdout",
     "output_type": "stream",
     "text": [
      "Too much tries\n",
      "Too much tries\n"
     ]
    },
    {
     "name": "stderr",
     "output_type": "stream",
     "text": [
      " 38%|█████████████▎                     | 62056/163886 [07:12<12:00, 141.32it/s]"
     ]
    },
    {
     "name": "stdout",
     "output_type": "stream",
     "text": [
      "Too much tries\n",
      "Too much tries\n"
     ]
    },
    {
     "name": "stderr",
     "output_type": "stream",
     "text": [
      " 38%|█████████████▎                     | 62303/163886 [07:14<11:07, 152.16it/s]"
     ]
    },
    {
     "name": "stdout",
     "output_type": "stream",
     "text": [
      "Too much tries\n"
     ]
    },
    {
     "name": "stderr",
     "output_type": "stream",
     "text": [
      " 38%|█████████████▎                     | 62349/163886 [07:14<11:54, 142.04it/s]"
     ]
    },
    {
     "name": "stdout",
     "output_type": "stream",
     "text": [
      "Too much tries\n"
     ]
    },
    {
     "name": "stderr",
     "output_type": "stream",
     "text": [
      " 38%|█████████████▍                     | 63011/163886 [07:19<11:15, 149.39it/s]"
     ]
    },
    {
     "name": "stdout",
     "output_type": "stream",
     "text": [
      "Too much tries\n"
     ]
    },
    {
     "name": "stderr",
     "output_type": "stream",
     "text": [
      " 39%|█████████████▌                     | 63267/163886 [07:21<11:42, 143.19it/s]"
     ]
    },
    {
     "name": "stdout",
     "output_type": "stream",
     "text": [
      "Too much tries\n",
      "Too much tries\n"
     ]
    },
    {
     "name": "stderr",
     "output_type": "stream",
     "text": [
      " 39%|█████████████▌                     | 63463/163886 [07:22<12:20, 135.64it/s]"
     ]
    },
    {
     "name": "stdout",
     "output_type": "stream",
     "text": [
      "Too much tries\n",
      "Too much tries\n"
     ]
    },
    {
     "name": "stderr",
     "output_type": "stream",
     "text": [
      " 39%|█████████████▌                     | 63505/163886 [07:22<12:30, 133.69it/s]"
     ]
    },
    {
     "name": "stdout",
     "output_type": "stream",
     "text": [
      "Too much tries\n"
     ]
    },
    {
     "name": "stderr",
     "output_type": "stream",
     "text": [
      " 39%|█████████████▌                     | 63580/163886 [07:23<11:51, 141.03it/s]"
     ]
    },
    {
     "name": "stdout",
     "output_type": "stream",
     "text": [
      "Too much tries\n"
     ]
    },
    {
     "name": "stderr",
     "output_type": "stream",
     "text": [
      " 39%|█████████████▋                     | 63909/163886 [07:25<11:53, 140.06it/s]"
     ]
    },
    {
     "name": "stdout",
     "output_type": "stream",
     "text": [
      "Too much tries\n"
     ]
    },
    {
     "name": "stderr",
     "output_type": "stream",
     "text": [
      " 39%|█████████████▋                     | 64057/163886 [07:26<11:39, 142.78it/s]"
     ]
    },
    {
     "name": "stdout",
     "output_type": "stream",
     "text": [
      "Too much tries\n"
     ]
    },
    {
     "name": "stderr",
     "output_type": "stream",
     "text": [
      " 39%|█████████████▊                     | 64556/163886 [07:30<12:48, 129.21it/s]"
     ]
    },
    {
     "name": "stdout",
     "output_type": "stream",
     "text": [
      "Too much tries\n",
      "Too much tries\n"
     ]
    },
    {
     "name": "stderr",
     "output_type": "stream",
     "text": [
      " 39%|█████████████▊                     | 64643/163886 [07:31<11:46, 140.45it/s]"
     ]
    },
    {
     "name": "stdout",
     "output_type": "stream",
     "text": [
      "Too much tries\n"
     ]
    },
    {
     "name": "stderr",
     "output_type": "stream",
     "text": [
      " 39%|█████████████▊                     | 64717/163886 [07:31<11:47, 140.17it/s]"
     ]
    },
    {
     "name": "stdout",
     "output_type": "stream",
     "text": [
      "Too much tries\n"
     ]
    },
    {
     "name": "stderr",
     "output_type": "stream",
     "text": [
      " 40%|█████████████▊                     | 64803/163886 [07:32<12:19, 134.08it/s]"
     ]
    },
    {
     "name": "stdout",
     "output_type": "stream",
     "text": [
      "Too much tries\n",
      "Too much tries\n",
      "Too much tries\n"
     ]
    },
    {
     "name": "stderr",
     "output_type": "stream",
     "text": [
      " 40%|█████████████▊                     | 64832/163886 [07:32<12:20, 133.84it/s]"
     ]
    },
    {
     "name": "stdout",
     "output_type": "stream",
     "text": [
      "Too much tries\n"
     ]
    },
    {
     "name": "stderr",
     "output_type": "stream",
     "text": [
      " 40%|█████████████▊                     | 64904/163886 [07:33<12:14, 134.85it/s]"
     ]
    },
    {
     "name": "stdout",
     "output_type": "stream",
     "text": [
      "Too much tries\n"
     ]
    },
    {
     "name": "stderr",
     "output_type": "stream",
     "text": [
      " 40%|█████████████▉                     | 65012/163886 [07:33<11:40, 141.21it/s]"
     ]
    },
    {
     "name": "stdout",
     "output_type": "stream",
     "text": [
      "Too much tries\n",
      "Too much tries\n",
      "Too much tries\n"
     ]
    },
    {
     "name": "stderr",
     "output_type": "stream",
     "text": [
      " 40%|█████████████▉                     | 65089/163886 [07:34<11:19, 145.31it/s]"
     ]
    },
    {
     "name": "stdout",
     "output_type": "stream",
     "text": [
      "Too much tries\n",
      "Too much tries\n",
      "Too much tries\n",
      "Too much tries\n"
     ]
    },
    {
     "name": "stderr",
     "output_type": "stream",
     "text": [
      " 40%|█████████████▉                     | 65277/163886 [07:35<11:06, 148.05it/s]"
     ]
    },
    {
     "name": "stdout",
     "output_type": "stream",
     "text": [
      "Too much tries\n"
     ]
    },
    {
     "name": "stderr",
     "output_type": "stream",
     "text": [
      " 40%|█████████████▉                     | 65416/163886 [07:36<12:15, 133.91it/s]"
     ]
    },
    {
     "name": "stdout",
     "output_type": "stream",
     "text": [
      "Too much tries\n"
     ]
    },
    {
     "name": "stderr",
     "output_type": "stream",
     "text": [
      " 40%|█████████████▉                     | 65444/163886 [07:36<12:35, 130.25it/s]"
     ]
    },
    {
     "name": "stdout",
     "output_type": "stream",
     "text": [
      "Too much tries\n",
      "Too much tries\n",
      "Too much tries\n"
     ]
    },
    {
     "name": "stderr",
     "output_type": "stream",
     "text": [
      " 40%|██████████████                     | 65773/163886 [07:39<14:07, 115.80it/s]"
     ]
    },
    {
     "name": "stdout",
     "output_type": "stream",
     "text": [
      "Too much tries\n",
      "Too much tries\n"
     ]
    },
    {
     "name": "stderr",
     "output_type": "stream",
     "text": [
      " 40%|██████████████                     | 65816/163886 [07:39<12:13, 133.71it/s]"
     ]
    },
    {
     "name": "stdout",
     "output_type": "stream",
     "text": [
      "Too much tries\n"
     ]
    },
    {
     "name": "stderr",
     "output_type": "stream",
     "text": [
      " 40%|██████████████                     | 65846/163886 [07:39<11:40, 140.00it/s]"
     ]
    },
    {
     "name": "stdout",
     "output_type": "stream",
     "text": [
      "Too much tries\n"
     ]
    },
    {
     "name": "stderr",
     "output_type": "stream",
     "text": [
      " 40%|██████████████▏                    | 66339/163886 [07:43<11:57, 135.88it/s]"
     ]
    },
    {
     "name": "stdout",
     "output_type": "stream",
     "text": [
      "Too much tries\n",
      "Too much tries\n",
      "Too much tries\n"
     ]
    },
    {
     "name": "stderr",
     "output_type": "stream",
     "text": [
      " 41%|██████████████▎                    | 66771/163886 [07:46<10:53, 148.69it/s]"
     ]
    },
    {
     "name": "stdout",
     "output_type": "stream",
     "text": [
      "Too much tries\n"
     ]
    },
    {
     "name": "stderr",
     "output_type": "stream",
     "text": [
      " 41%|██████████████▎                    | 66846/163886 [07:47<11:44, 137.83it/s]"
     ]
    },
    {
     "name": "stdout",
     "output_type": "stream",
     "text": [
      "Too much tries\n"
     ]
    },
    {
     "name": "stderr",
     "output_type": "stream",
     "text": [
      " 41%|██████████████▎                    | 67261/163886 [07:50<11:12, 143.65it/s]"
     ]
    },
    {
     "name": "stdout",
     "output_type": "stream",
     "text": [
      "Too much tries\n"
     ]
    },
    {
     "name": "stderr",
     "output_type": "stream",
     "text": [
      " 41%|██████████████▌                    | 67990/163886 [07:55<11:43, 136.36it/s]"
     ]
    },
    {
     "name": "stdout",
     "output_type": "stream",
     "text": [
      "Too much tries\n",
      "Too much tries\n"
     ]
    },
    {
     "name": "stderr",
     "output_type": "stream",
     "text": [
      " 42%|██████████████▌                    | 68161/163886 [07:56<13:58, 114.20it/s]"
     ]
    },
    {
     "name": "stdout",
     "output_type": "stream",
     "text": [
      "Too much tries\n",
      "Too much tries\n",
      "Too much tries\n"
     ]
    },
    {
     "name": "stderr",
     "output_type": "stream",
     "text": [
      " 42%|██████████████▋                    | 68839/163886 [08:01<12:55, 122.60it/s]"
     ]
    },
    {
     "name": "stdout",
     "output_type": "stream",
     "text": [
      "Too much tries\n",
      "Too much tries\n"
     ]
    },
    {
     "name": "stderr",
     "output_type": "stream",
     "text": [
      " 42%|██████████████▊                    | 69207/163886 [08:04<10:47, 146.29it/s]"
     ]
    },
    {
     "name": "stdout",
     "output_type": "stream",
     "text": [
      "Too much tries\n"
     ]
    },
    {
     "name": "stderr",
     "output_type": "stream",
     "text": [
      " 42%|██████████████▊                    | 69553/163886 [08:06<11:24, 137.91it/s]"
     ]
    },
    {
     "name": "stdout",
     "output_type": "stream",
     "text": [
      "Too much tries\n",
      "Too much tries\n",
      "Too much tries\n",
      "Too much tries\n"
     ]
    },
    {
     "name": "stderr",
     "output_type": "stream",
     "text": [
      " 42%|██████████████▊                    | 69582/163886 [08:06<11:24, 137.77it/s]"
     ]
    },
    {
     "name": "stdout",
     "output_type": "stream",
     "text": [
      "Too much tries\n",
      "Too much tries\n",
      "Too much tries\n"
     ]
    },
    {
     "name": "stderr",
     "output_type": "stream",
     "text": [
      " 43%|██████████████▉                    | 69724/163886 [08:07<10:51, 144.50it/s]"
     ]
    },
    {
     "name": "stdout",
     "output_type": "stream",
     "text": [
      "Too much tries\n",
      "Too much tries\n"
     ]
    },
    {
     "name": "stderr",
     "output_type": "stream",
     "text": [
      " 43%|██████████████▉                    | 70210/163886 [08:11<10:58, 142.32it/s]"
     ]
    },
    {
     "name": "stdout",
     "output_type": "stream",
     "text": [
      "Too much tries\n"
     ]
    },
    {
     "name": "stderr",
     "output_type": "stream",
     "text": [
      " 43%|███████████████                    | 70255/163886 [08:12<12:57, 120.46it/s]"
     ]
    },
    {
     "name": "stdout",
     "output_type": "stream",
     "text": [
      "Too much tries\n"
     ]
    },
    {
     "name": "stderr",
     "output_type": "stream",
     "text": [
      " 43%|███████████████                    | 70652/163886 [08:15<15:11, 102.23it/s]"
     ]
    },
    {
     "name": "stdout",
     "output_type": "stream",
     "text": [
      "Too much tries\n",
      "Too much tries\n",
      "Too much tries\n",
      "Too much tries\n",
      "Too much tries\n",
      "Too much tries\n",
      "Too much tries\n",
      "Too much tries\n",
      "Too much tries\n",
      "Too much tries\n"
     ]
    },
    {
     "name": "stderr",
     "output_type": "stream",
     "text": [
      " 43%|███████████████                    | 70676/163886 [08:15<14:21, 108.21it/s]"
     ]
    },
    {
     "name": "stdout",
     "output_type": "stream",
     "text": [
      "Too much tries\n",
      "Too much tries\n",
      "Too much tries\n",
      "Too much tries\n",
      "Too much tries\n",
      "Too much tries\n"
     ]
    },
    {
     "name": "stderr",
     "output_type": "stream",
     "text": [
      " 43%|███████████████                    | 70725/163886 [08:16<13:11, 117.69it/s]"
     ]
    },
    {
     "name": "stdout",
     "output_type": "stream",
     "text": [
      "Too much tries\n",
      "Too much tries\n",
      "Too much tries\n",
      "Too much tries\n",
      "Too much tries\n"
     ]
    },
    {
     "name": "stderr",
     "output_type": "stream",
     "text": [
      " 43%|███████████████▏                   | 70983/163886 [08:17<11:02, 140.34it/s]"
     ]
    },
    {
     "name": "stdout",
     "output_type": "stream",
     "text": [
      "Too much tries\n",
      "Too much tries\n",
      "Too much tries\n",
      "Too much tries\n",
      "Too much tries\n"
     ]
    },
    {
     "name": "stderr",
     "output_type": "stream",
     "text": [
      " 43%|███████████████▏                   | 71012/163886 [08:18<11:30, 134.55it/s]"
     ]
    },
    {
     "name": "stdout",
     "output_type": "stream",
     "text": [
      "Too much tries\n",
      "Too much tries\n"
     ]
    },
    {
     "name": "stderr",
     "output_type": "stream",
     "text": [
      " 43%|███████████████▏                   | 71120/163886 [08:18<10:51, 142.44it/s]"
     ]
    },
    {
     "name": "stdout",
     "output_type": "stream",
     "text": [
      "Too much tries\n",
      "Too much tries\n",
      "Too much tries\n",
      "Too much tries\n"
     ]
    },
    {
     "name": "stderr",
     "output_type": "stream",
     "text": [
      " 44%|███████████████▎                   | 71850/163886 [08:23<10:20, 148.43it/s]"
     ]
    },
    {
     "name": "stdout",
     "output_type": "stream",
     "text": [
      "Too much tries\n"
     ]
    },
    {
     "name": "stderr",
     "output_type": "stream",
     "text": [
      " 44%|███████████████▍                   | 72081/163886 [08:25<11:56, 128.05it/s]"
     ]
    },
    {
     "name": "stdout",
     "output_type": "stream",
     "text": [
      "Too much tries\n",
      "Too much tries\n",
      "Too much tries\n",
      "Too much tries\n",
      "Too much tries\n",
      "Too much tries\n"
     ]
    },
    {
     "name": "stderr",
     "output_type": "stream",
     "text": [
      " 44%|███████████████▍                   | 72110/163886 [08:25<11:20, 134.93it/s]"
     ]
    },
    {
     "name": "stdout",
     "output_type": "stream",
     "text": [
      "Too much tries\n"
     ]
    },
    {
     "name": "stderr",
     "output_type": "stream",
     "text": [
      " 44%|███████████████▍                   | 72232/163886 [08:26<12:18, 124.06it/s]"
     ]
    },
    {
     "name": "stdout",
     "output_type": "stream",
     "text": [
      "Too much tries\n",
      "Too much tries\n",
      "Too much tries\n",
      "Too much tries\n",
      "Too much tries\n",
      "Too much tries\n",
      "Too much tries\n",
      "Too much tries\n"
     ]
    },
    {
     "name": "stderr",
     "output_type": "stream",
     "text": [
      " 44%|███████████████▍                   | 72258/163886 [08:26<13:50, 110.33it/s]"
     ]
    },
    {
     "name": "stdout",
     "output_type": "stream",
     "text": [
      "Too much tries\n",
      "Too much tries\n",
      "Too much tries\n",
      "Too much tries\n"
     ]
    },
    {
     "name": "stderr",
     "output_type": "stream",
     "text": [
      " 44%|███████████████▍                   | 72282/163886 [08:26<14:07, 108.12it/s]"
     ]
    },
    {
     "name": "stdout",
     "output_type": "stream",
     "text": [
      "Too much tries\n",
      "Too much tries\n",
      "Too much tries\n"
     ]
    },
    {
     "name": "stderr",
     "output_type": "stream",
     "text": [
      " 44%|███████████████▌                   | 72598/163886 [08:29<09:52, 154.04it/s]"
     ]
    },
    {
     "name": "stdout",
     "output_type": "stream",
     "text": [
      "Too much tries\n"
     ]
    },
    {
     "name": "stderr",
     "output_type": "stream",
     "text": [
      " 44%|███████████████▌                   | 72758/163886 [08:30<10:12, 148.70it/s]"
     ]
    },
    {
     "name": "stdout",
     "output_type": "stream",
     "text": [
      "Too much tries\n"
     ]
    },
    {
     "name": "stderr",
     "output_type": "stream",
     "text": [
      " 44%|███████████████▌                   | 72851/163886 [08:30<10:09, 149.31it/s]"
     ]
    },
    {
     "name": "stdout",
     "output_type": "stream",
     "text": [
      "Too much tries\n"
     ]
    },
    {
     "name": "stderr",
     "output_type": "stream",
     "text": [
      " 44%|███████████████▌                   | 72926/163886 [08:31<10:25, 145.49it/s]"
     ]
    },
    {
     "name": "stdout",
     "output_type": "stream",
     "text": [
      "Too much tries\n",
      "Too much tries\n"
     ]
    },
    {
     "name": "stderr",
     "output_type": "stream",
     "text": [
      " 45%|███████████████▋                   | 73240/163886 [08:33<10:24, 145.18it/s]"
     ]
    },
    {
     "name": "stdout",
     "output_type": "stream",
     "text": [
      "Too much tries\n",
      "Too much tries\n",
      "Too much tries\n"
     ]
    },
    {
     "name": "stderr",
     "output_type": "stream",
     "text": [
      " 45%|███████████████▋                   | 73431/163886 [08:34<09:58, 151.10it/s]"
     ]
    },
    {
     "name": "stdout",
     "output_type": "stream",
     "text": [
      "Too much tries\n"
     ]
    },
    {
     "name": "stderr",
     "output_type": "stream",
     "text": [
      " 45%|███████████████▋                   | 73652/163886 [08:36<10:31, 142.97it/s]"
     ]
    },
    {
     "name": "stdout",
     "output_type": "stream",
     "text": [
      "Too much tries\n"
     ]
    },
    {
     "name": "stderr",
     "output_type": "stream",
     "text": [
      " 45%|███████████████▊                   | 74042/163886 [08:38<10:47, 138.68it/s]"
     ]
    },
    {
     "name": "stdout",
     "output_type": "stream",
     "text": [
      "Too much tries\n",
      "Too much tries\n",
      "Too much tries\n",
      "Too much tries\n",
      "Too much tries\n",
      "Too much tries\n",
      "Too much tries\n"
     ]
    },
    {
     "name": "stderr",
     "output_type": "stream",
     "text": [
      " 45%|███████████████▊                   | 74086/163886 [08:39<10:56, 136.71it/s]"
     ]
    },
    {
     "name": "stdout",
     "output_type": "stream",
     "text": [
      "Too much tries\n",
      "Too much tries\n",
      "Too much tries\n"
     ]
    },
    {
     "name": "stderr",
     "output_type": "stream",
     "text": [
      " 45%|███████████████▊                   | 74133/163886 [08:39<10:41, 139.99it/s]"
     ]
    },
    {
     "name": "stdout",
     "output_type": "stream",
     "text": [
      "Too much tries\n",
      "Too much tries\n",
      "Too much tries\n",
      "Too much tries\n"
     ]
    },
    {
     "name": "stderr",
     "output_type": "stream",
     "text": [
      " 45%|███████████████▊                   | 74291/163886 [08:40<09:57, 149.98it/s]"
     ]
    },
    {
     "name": "stdout",
     "output_type": "stream",
     "text": [
      "Too much tries\n"
     ]
    },
    {
     "name": "stderr",
     "output_type": "stream",
     "text": [
      " 46%|███████████████▉                   | 74867/163886 [08:44<09:54, 149.85it/s]"
     ]
    },
    {
     "name": "stdout",
     "output_type": "stream",
     "text": [
      "Too much tries\n"
     ]
    },
    {
     "name": "stderr",
     "output_type": "stream",
     "text": [
      " 46%|████████████████                   | 75171/163886 [08:46<09:51, 149.87it/s]"
     ]
    },
    {
     "name": "stdout",
     "output_type": "stream",
     "text": [
      "Too much tries\n",
      "Too much tries\n"
     ]
    },
    {
     "name": "stderr",
     "output_type": "stream",
     "text": [
      " 46%|████████████████▏                  | 75832/163886 [08:50<09:48, 149.56it/s]"
     ]
    },
    {
     "name": "stdout",
     "output_type": "stream",
     "text": [
      "Too much tries\n"
     ]
    },
    {
     "name": "stderr",
     "output_type": "stream",
     "text": [
      " 48%|████████████████▋                  | 78071/163886 [09:06<10:50, 131.88it/s]"
     ]
    },
    {
     "name": "stdout",
     "output_type": "stream",
     "text": [
      "Too much tries\n"
     ]
    },
    {
     "name": "stderr",
     "output_type": "stream",
     "text": [
      " 49%|█████████████████                  | 79903/163886 [09:18<09:22, 149.38it/s]"
     ]
    },
    {
     "name": "stdout",
     "output_type": "stream",
     "text": [
      "Too much tries\n"
     ]
    },
    {
     "name": "stderr",
     "output_type": "stream",
     "text": [
      " 50%|█████████████████▌                 | 82071/163886 [09:33<10:21, 131.70it/s]"
     ]
    },
    {
     "name": "stdout",
     "output_type": "stream",
     "text": [
      "Too much tries\n"
     ]
    },
    {
     "name": "stderr",
     "output_type": "stream",
     "text": [
      " 50%|█████████████████▌                 | 82113/163886 [09:33<10:15, 132.76it/s]"
     ]
    },
    {
     "name": "stdout",
     "output_type": "stream",
     "text": [
      "Too much tries\n"
     ]
    },
    {
     "name": "stderr",
     "output_type": "stream",
     "text": [
      " 53%|██████████████████▍                | 86276/163886 [10:01<08:39, 149.27it/s]"
     ]
    },
    {
     "name": "stdout",
     "output_type": "stream",
     "text": [
      "Too much tries\n"
     ]
    },
    {
     "name": "stderr",
     "output_type": "stream",
     "text": [
      " 88%|█████████████████████████████▉    | 144576/163886 [16:28<02:08, 149.79it/s]"
     ]
    },
    {
     "name": "stdout",
     "output_type": "stream",
     "text": [
      "Too much tries\n",
      "Too much tries\n",
      "Too much tries\n",
      "Too much tries\n",
      "Too much tries\n"
     ]
    },
    {
     "name": "stderr",
     "output_type": "stream",
     "text": [
      " 88%|██████████████████████████████    | 144666/163886 [16:28<02:12, 144.92it/s]"
     ]
    },
    {
     "name": "stdout",
     "output_type": "stream",
     "text": [
      "Too much tries\n"
     ]
    },
    {
     "name": "stderr",
     "output_type": "stream",
     "text": [
      " 89%|██████████████████████████████▏   | 145271/163886 [16:32<02:12, 140.58it/s]"
     ]
    },
    {
     "name": "stdout",
     "output_type": "stream",
     "text": [
      "Too much tries\n"
     ]
    },
    {
     "name": "stderr",
     "output_type": "stream",
     "text": [
      " 89%|██████████████████████████████▏   | 145620/163886 [16:35<02:04, 146.26it/s]"
     ]
    },
    {
     "name": "stdout",
     "output_type": "stream",
     "text": [
      "Too much tries\n"
     ]
    },
    {
     "name": "stderr",
     "output_type": "stream",
     "text": [
      " 89%|██████████████████████████████▎   | 146252/163886 [16:39<01:57, 150.70it/s]"
     ]
    },
    {
     "name": "stdout",
     "output_type": "stream",
     "text": [
      "Too much tries\n"
     ]
    },
    {
     "name": "stderr",
     "output_type": "stream",
     "text": [
      " 89%|██████████████████████████████▍   | 146677/163886 [16:42<01:55, 148.68it/s]"
     ]
    },
    {
     "name": "stdout",
     "output_type": "stream",
     "text": [
      "Too much tries\n"
     ]
    },
    {
     "name": "stderr",
     "output_type": "stream",
     "text": [
      " 90%|██████████████████████████████▍   | 146756/163886 [16:42<01:53, 151.33it/s]"
     ]
    },
    {
     "name": "stdout",
     "output_type": "stream",
     "text": [
      "Too much tries\n"
     ]
    },
    {
     "name": "stderr",
     "output_type": "stream",
     "text": [
      " 90%|██████████████████████████████▌   | 147152/163886 [16:45<01:52, 148.26it/s]"
     ]
    },
    {
     "name": "stdout",
     "output_type": "stream",
     "text": [
      "Too much tries\n"
     ]
    },
    {
     "name": "stderr",
     "output_type": "stream",
     "text": [
      " 90%|██████████████████████████████▋   | 147790/163886 [16:49<01:48, 147.86it/s]"
     ]
    },
    {
     "name": "stdout",
     "output_type": "stream",
     "text": [
      "Too much tries\n"
     ]
    },
    {
     "name": "stderr",
     "output_type": "stream",
     "text": [
      " 90%|██████████████████████████████▊   | 148259/163886 [16:52<01:45, 147.88it/s]"
     ]
    },
    {
     "name": "stdout",
     "output_type": "stream",
     "text": [
      "Too much tries\n"
     ]
    },
    {
     "name": "stderr",
     "output_type": "stream",
     "text": [
      " 91%|██████████████████████████████▊   | 148655/163886 [16:55<01:44, 145.65it/s]"
     ]
    },
    {
     "name": "stdout",
     "output_type": "stream",
     "text": [
      "Too much tries\n"
     ]
    },
    {
     "name": "stderr",
     "output_type": "stream",
     "text": [
      " 93%|███████████████████████████████▌  | 152129/163886 [17:18<01:18, 150.23it/s]"
     ]
    },
    {
     "name": "stdout",
     "output_type": "stream",
     "text": [
      "Too much tries\n"
     ]
    },
    {
     "name": "stderr",
     "output_type": "stream",
     "text": [
      "100%|█████████████████████████████████▊| 163124/163886 [18:34<00:06, 122.89it/s]"
     ]
    },
    {
     "name": "stdout",
     "output_type": "stream",
     "text": [
      "Too much tries\n",
      "Too much tries\n",
      "Too much tries\n",
      "Too much tries\n",
      "Too much tries\n",
      "Too much tries\n",
      "Too much tries\n",
      "Too much tries\n",
      "Too much tries\n",
      "Too much tries\n",
      "Too much tries\n",
      "Too much tries\n",
      "Too much tries\n",
      "Too much tries\n",
      "Too much tries\n",
      "Too much tries\n",
      "Too much tries\n",
      "Too much tries\n",
      "Too much tries\n",
      "Too much tries\n"
     ]
    },
    {
     "name": "stderr",
     "output_type": "stream",
     "text": [
      "100%|█████████████████████████████████▊| 163137/163886 [18:34<00:06, 111.53it/s]"
     ]
    },
    {
     "name": "stdout",
     "output_type": "stream",
     "text": [
      "Too much tries\n",
      "Too much tries\n",
      "Too much tries\n",
      "Too much tries\n",
      "Too much tries\n",
      "Too much tries\n",
      "Too much tries\n",
      "Too much tries\n",
      "Too much tries\n",
      "Too much tries\n",
      "Too much tries\n",
      "Too much tries\n",
      "Too much tries\n",
      "Too much tries\n",
      "Too much tries\n",
      "Too much tries\n",
      "Too much tries\n",
      "Too much tries\n",
      "Too much tries\n",
      "Too much tries\n"
     ]
    },
    {
     "name": "stderr",
     "output_type": "stream",
     "text": [
      "100%|█████████████████████████████████▊| 163160/163886 [18:35<00:07, 103.55it/s]"
     ]
    },
    {
     "name": "stdout",
     "output_type": "stream",
     "text": [
      "Too much tries\n",
      "Too much tries\n",
      "Too much tries\n",
      "Too much tries\n",
      "Too much tries\n",
      "Too much tries\n",
      "Too much tries\n",
      "Too much tries\n",
      "Too much tries\n",
      "Too much tries\n",
      "Too much tries\n",
      "Too much tries\n",
      "Too much tries\n",
      "Too much tries\n",
      "Too much tries\n",
      "Too much tries\n",
      "Too much tries\n",
      "Too much tries\n",
      "Too much tries\n",
      "Too much tries\n",
      "Too much tries\n",
      "Too much tries\n"
     ]
    },
    {
     "name": "stderr",
     "output_type": "stream",
     "text": [
      "100%|██████████████████████████████████▊| 163182/163886 [18:35<00:07, 99.75it/s]"
     ]
    },
    {
     "name": "stdout",
     "output_type": "stream",
     "text": [
      "Too much tries\n",
      "Too much tries\n",
      "Too much tries\n",
      "Too much tries\n",
      "Too much tries\n",
      "Too much tries\n",
      "Too much tries\n",
      "Too much tries\n",
      "Too much tries\n",
      "Too much tries\n",
      "Too much tries\n",
      "Too much tries\n",
      "Too much tries\n",
      "Too much tries\n",
      "Too much tries\n",
      "Too much tries\n",
      "Too much tries\n",
      "Too much tries\n",
      "Too much tries\n",
      "Too much tries\n"
     ]
    },
    {
     "name": "stderr",
     "output_type": "stream",
     "text": [
      "100%|██████████████████████████████████▊| 163203/163886 [18:35<00:07, 97.46it/s]"
     ]
    },
    {
     "name": "stdout",
     "output_type": "stream",
     "text": [
      "Too much tries\n",
      "Too much tries\n",
      "Too much tries\n",
      "Too much tries\n",
      "Too much tries\n",
      "Too much tries\n",
      "Too much tries\n",
      "Too much tries\n",
      "Too much tries\n",
      "Too much tries\n",
      "Too much tries\n",
      "Too much tries\n",
      "Too much tries\n",
      "Too much tries\n",
      "Too much tries\n",
      "Too much tries\n",
      "Too much tries\n",
      "Too much tries\n",
      "Too much tries\n",
      "Too much tries\n"
     ]
    },
    {
     "name": "stderr",
     "output_type": "stream",
     "text": [
      "100%|██████████████████████████████████▊| 163223/163886 [18:35<00:06, 96.18it/s]"
     ]
    },
    {
     "name": "stdout",
     "output_type": "stream",
     "text": [
      "Too much tries\n",
      "Too much tries\n",
      "Too much tries\n",
      "Too much tries\n",
      "Too much tries\n",
      "Too much tries\n",
      "Too much tries\n",
      "Too much tries\n",
      "Too much tries\n",
      "Too much tries\n",
      "Too much tries\n",
      "Too much tries\n",
      "Too much tries\n",
      "Too much tries\n",
      "Too much tries\n",
      "Too much tries\n",
      "Too much tries\n",
      "Too much tries\n",
      "Too much tries\n",
      "Too much tries\n"
     ]
    },
    {
     "name": "stderr",
     "output_type": "stream",
     "text": [
      "100%|██████████████████████████████████▊| 163243/163886 [18:35<00:06, 93.16it/s]"
     ]
    },
    {
     "name": "stdout",
     "output_type": "stream",
     "text": [
      "Too much tries\n",
      "Too much tries\n",
      "Too much tries\n",
      "Too much tries\n",
      "Too much tries\n",
      "Too much tries\n",
      "Too much tries\n",
      "Too much tries\n",
      "Too much tries\n",
      "Too much tries\n",
      "Too much tries\n",
      "Too much tries\n",
      "Too much tries\n",
      "Too much tries\n",
      "Too much tries\n",
      "Too much tries\n",
      "Too much tries\n",
      "Too much tries\n",
      "Too much tries\n"
     ]
    },
    {
     "name": "stderr",
     "output_type": "stream",
     "text": [
      "100%|██████████████████████████████████▊| 163263/163886 [18:36<00:06, 93.67it/s]"
     ]
    },
    {
     "name": "stdout",
     "output_type": "stream",
     "text": [
      "Too much tries\n",
      "Too much tries\n",
      "Too much tries\n",
      "Too much tries\n",
      "Too much tries\n",
      "Too much tries\n",
      "Too much tries\n",
      "Too much tries\n",
      "Too much tries\n",
      "Too much tries\n",
      "Too much tries\n",
      "Too much tries\n",
      "Too much tries\n",
      "Too much tries\n",
      "Too much tries\n",
      "Too much tries\n",
      "Too much tries\n",
      "Too much tries\n"
     ]
    },
    {
     "name": "stderr",
     "output_type": "stream",
     "text": [
      "100%|█████████████████████████████████▉| 163299/163886 [18:36<00:05, 104.47it/s]"
     ]
    },
    {
     "name": "stdout",
     "output_type": "stream",
     "text": [
      "Too much tries\n",
      "Too much tries\n",
      "Too much tries\n",
      "Too much tries\n",
      "Too much tries\n",
      "Too much tries\n",
      "Too much tries\n",
      "Too much tries\n",
      "Too much tries\n",
      "Too much tries\n",
      "Too much tries\n",
      "Too much tries\n",
      "Too much tries\n",
      "Too much tries\n",
      "Too much tries\n",
      "Too much tries\n",
      "Too much tries\n",
      "Too much tries\n",
      "Too much tries\n",
      "Too much tries\n",
      "Too much tries\n"
     ]
    },
    {
     "name": "stderr",
     "output_type": "stream",
     "text": [
      "100%|█████████████████████████████████▉| 163323/163886 [18:36<00:05, 107.35it/s]"
     ]
    },
    {
     "name": "stdout",
     "output_type": "stream",
     "text": [
      "Too much tries\n",
      "Too much tries\n",
      "Too much tries\n",
      "Too much tries\n",
      "Too much tries\n",
      "Too much tries\n",
      "Too much tries\n"
     ]
    },
    {
     "name": "stderr",
     "output_type": "stream",
     "text": [
      "100%|█████████████████████████████████▉| 163345/163886 [18:36<00:05, 105.09it/s]"
     ]
    },
    {
     "name": "stdout",
     "output_type": "stream",
     "text": [
      "Too much tries\n",
      "Too much tries\n",
      "Too much tries\n",
      "Too much tries\n",
      "Too much tries\n",
      "Too much tries\n",
      "Too much tries\n",
      "Too much tries\n",
      "Too much tries\n",
      "Too much tries\n",
      "Too much tries\n",
      "Too much tries\n",
      "Too much tries\n",
      "Too much tries\n",
      "Too much tries\n",
      "Too much tries\n",
      "Too much tries\n",
      "Too much tries\n",
      "Too much tries\n",
      "Too much tries\n",
      "Too much tries\n"
     ]
    },
    {
     "name": "stderr",
     "output_type": "stream",
     "text": [
      "100%|██████████████████████████████████▉| 163367/163886 [18:37<00:05, 99.44it/s]"
     ]
    },
    {
     "name": "stdout",
     "output_type": "stream",
     "text": [
      "Too much tries\n",
      "Too much tries\n",
      "Too much tries\n",
      "Too much tries\n",
      "Too much tries\n",
      "Too much tries\n",
      "Too much tries\n",
      "Too much tries\n",
      "Too much tries\n",
      "Too much tries\n",
      "Too much tries\n",
      "Too much tries\n",
      "Too much tries\n",
      "Too much tries\n",
      "Too much tries\n",
      "Too much tries\n",
      "Too much tries\n",
      "Too much tries\n",
      "Too much tries\n",
      "Too much tries\n",
      "Too much tries\n"
     ]
    },
    {
     "name": "stderr",
     "output_type": "stream",
     "text": [
      "100%|██████████████████████████████████▉| 163387/163886 [18:37<00:05, 96.76it/s]"
     ]
    },
    {
     "name": "stdout",
     "output_type": "stream",
     "text": [
      "Too much tries\n",
      "Too much tries\n",
      "Too much tries\n",
      "Too much tries\n",
      "Too much tries\n",
      "Too much tries\n",
      "Too much tries\n",
      "Too much tries\n",
      "Too much tries\n",
      "Too much tries\n",
      "Too much tries\n",
      "Too much tries\n",
      "Too much tries\n",
      "Too much tries\n",
      "Too much tries\n",
      "Too much tries\n",
      "Too much tries\n",
      "Too much tries\n",
      "Too much tries\n",
      "Too much tries\n",
      "Too much tries\n"
     ]
    },
    {
     "name": "stderr",
     "output_type": "stream",
     "text": [
      "100%|██████████████████████████████████▉| 163407/163886 [18:37<00:05, 95.47it/s]"
     ]
    },
    {
     "name": "stdout",
     "output_type": "stream",
     "text": [
      "Too much tries\n",
      "Too much tries\n",
      "Too much tries\n",
      "Too much tries\n",
      "Too much tries\n",
      "Too much tries\n",
      "Too much tries\n",
      "Too much tries\n",
      "Too much tries\n",
      "Too much tries\n",
      "Too much tries\n",
      "Too much tries\n",
      "Too much tries\n",
      "Too much tries\n",
      "Too much tries\n",
      "Too much tries\n",
      "Too much tries\n",
      "Too much tries\n",
      "Too much tries\n",
      "Too much tries\n"
     ]
    },
    {
     "name": "stderr",
     "output_type": "stream",
     "text": [
      "100%|██████████████████████████████████▉| 163427/163886 [18:37<00:04, 93.72it/s]"
     ]
    },
    {
     "name": "stdout",
     "output_type": "stream",
     "text": [
      "Too much tries\n",
      "Too much tries\n",
      "Too much tries\n",
      "Too much tries\n",
      "Too much tries\n",
      "Too much tries\n",
      "Too much tries\n",
      "Too much tries\n",
      "Too much tries\n",
      "Too much tries\n",
      "Too much tries\n",
      "Too much tries\n",
      "Too much tries\n",
      "Too much tries\n",
      "Too much tries\n",
      "Too much tries\n",
      "Too much tries\n",
      "Too much tries\n",
      "Too much tries\n",
      "Too much tries\n"
     ]
    },
    {
     "name": "stderr",
     "output_type": "stream",
     "text": [
      "100%|██████████████████████████████████▉| 163447/163886 [18:37<00:04, 93.01it/s]"
     ]
    },
    {
     "name": "stdout",
     "output_type": "stream",
     "text": [
      "Too much tries\n",
      "Too much tries\n",
      "Too much tries\n",
      "Too much tries\n",
      "Too much tries\n",
      "Too much tries\n",
      "Too much tries\n",
      "Too much tries\n",
      "Too much tries\n",
      "Too much tries\n",
      "Too much tries\n",
      "Too much tries\n",
      "Too much tries\n",
      "Too much tries\n",
      "Too much tries\n",
      "Too much tries\n",
      "Too much tries\n",
      "Too much tries\n",
      "Too much tries\n",
      "Too much tries\n"
     ]
    },
    {
     "name": "stderr",
     "output_type": "stream",
     "text": [
      "100%|██████████████████████████████████▉| 163467/163886 [18:38<00:04, 93.45it/s]"
     ]
    },
    {
     "name": "stdout",
     "output_type": "stream",
     "text": [
      "Too much tries\n",
      "Too much tries\n",
      "Too much tries\n",
      "Too much tries\n",
      "Too much tries\n",
      "Too much tries\n",
      "Too much tries\n",
      "Too much tries\n",
      "Too much tries\n",
      "Too much tries\n",
      "Too much tries\n",
      "Too much tries\n",
      "Too much tries\n",
      "Too much tries\n",
      "Too much tries\n",
      "Too much tries\n",
      "Too much tries\n",
      "Too much tries\n",
      "Too much tries\n",
      "Too much tries\n",
      "Too much tries\n"
     ]
    },
    {
     "name": "stderr",
     "output_type": "stream",
     "text": [
      "100%|██████████████████████████████████▉| 163487/163886 [18:38<00:04, 93.07it/s]"
     ]
    },
    {
     "name": "stdout",
     "output_type": "stream",
     "text": [
      "Too much tries\n",
      "Too much tries\n",
      "Too much tries\n",
      "Too much tries\n",
      "Too much tries\n",
      "Too much tries\n",
      "Too much tries\n",
      "Too much tries\n",
      "Too much tries\n",
      "Too much tries\n",
      "Too much tries\n",
      "Too much tries\n",
      "Too much tries\n",
      "Too much tries\n",
      "Too much tries\n",
      "Too much tries\n"
     ]
    },
    {
     "name": "stderr",
     "output_type": "stream",
     "text": [
      "100%|██████████████████████████████████▉| 163508/163886 [18:38<00:03, 95.12it/s]"
     ]
    },
    {
     "name": "stdout",
     "output_type": "stream",
     "text": [
      "Too much tries\n",
      "Too much tries\n",
      "Too much tries\n",
      "Too much tries\n",
      "Too much tries\n",
      "Too much tries\n",
      "Too much tries\n",
      "Too much tries\n",
      "Too much tries\n",
      "Too much tries\n",
      "Too much tries\n",
      "Too much tries\n",
      "Too much tries\n",
      "Too much tries\n",
      "Too much tries\n",
      "Too much tries\n",
      "Too much tries\n",
      "Too much tries\n",
      "Too much tries\n"
     ]
    },
    {
     "name": "stderr",
     "output_type": "stream",
     "text": [
      "100%|██████████████████████████████████▉| 163529/163886 [18:38<00:03, 96.57it/s]"
     ]
    },
    {
     "name": "stdout",
     "output_type": "stream",
     "text": [
      "Too much tries\n",
      "Too much tries\n",
      "Too much tries\n",
      "Too much tries\n",
      "Too much tries\n",
      "Too much tries\n",
      "Too much tries\n",
      "Too much tries\n",
      "Too much tries\n",
      "Too much tries\n",
      "Too much tries\n",
      "Too much tries\n",
      "Too much tries\n",
      "Too much tries\n",
      "Too much tries\n",
      "Too much tries\n",
      "Too much tries\n",
      "Too much tries\n"
     ]
    },
    {
     "name": "stderr",
     "output_type": "stream",
     "text": [
      "100%|█████████████████████████████████▉| 163551/163886 [18:39<00:03, 100.72it/s]"
     ]
    },
    {
     "name": "stdout",
     "output_type": "stream",
     "text": [
      "Too much tries\n",
      "Too much tries\n",
      "Too much tries\n",
      "Too much tries\n",
      "Too much tries\n",
      "Too much tries\n",
      "Too much tries\n",
      "Too much tries\n",
      "Too much tries\n",
      "Too much tries\n",
      "Too much tries\n",
      "Too much tries\n",
      "Too much tries\n",
      "Too much tries\n",
      "Too much tries\n",
      "Too much tries\n",
      "Too much tries\n",
      "Too much tries\n"
     ]
    },
    {
     "name": "stderr",
     "output_type": "stream",
     "text": [
      "100%|█████████████████████████████████▉| 163590/163886 [18:39<00:02, 117.44it/s]"
     ]
    },
    {
     "name": "stdout",
     "output_type": "stream",
     "text": [
      "Too much tries\n",
      "Too much tries\n",
      "Too much tries\n"
     ]
    },
    {
     "name": "stderr",
     "output_type": "stream",
     "text": [
      "100%|█████████████████████████████████▉| 163617/163886 [18:39<00:02, 124.32it/s]"
     ]
    },
    {
     "name": "stdout",
     "output_type": "stream",
     "text": [
      "Too much tries\n",
      "Too much tries\n",
      "Too much tries\n"
     ]
    },
    {
     "name": "stderr",
     "output_type": "stream",
     "text": [
      "100%|█████████████████████████████████▉| 163643/163886 [18:39<00:01, 122.42it/s]"
     ]
    },
    {
     "name": "stdout",
     "output_type": "stream",
     "text": [
      "Too much tries\n",
      "Too much tries\n",
      "Too much tries\n",
      "Too much tries\n",
      "Too much tries\n",
      "Too much tries\n",
      "Too much tries\n",
      "Too much tries\n"
     ]
    },
    {
     "name": "stderr",
     "output_type": "stream",
     "text": [
      "100%|█████████████████████████████████▉| 163670/163886 [18:39<00:01, 126.42it/s]"
     ]
    },
    {
     "name": "stdout",
     "output_type": "stream",
     "text": [
      "Too much tries\n",
      "Too much tries\n",
      "Too much tries\n"
     ]
    },
    {
     "name": "stderr",
     "output_type": "stream",
     "text": [
      "100%|█████████████████████████████████▉| 163697/163886 [18:40<00:01, 128.47it/s]"
     ]
    },
    {
     "name": "stdout",
     "output_type": "stream",
     "text": [
      "Too much tries\n",
      "Too much tries\n",
      "Too much tries\n",
      "Too much tries\n"
     ]
    },
    {
     "name": "stderr",
     "output_type": "stream",
     "text": [
      "100%|█████████████████████████████████▉| 163737/163886 [18:40<00:01, 125.68it/s]"
     ]
    },
    {
     "name": "stdout",
     "output_type": "stream",
     "text": [
      "Too much tries\n",
      "Too much tries\n",
      "Too much tries\n",
      "Too much tries\n",
      "Too much tries\n",
      "Too much tries\n",
      "Too much tries\n",
      "Too much tries\n"
     ]
    },
    {
     "name": "stderr",
     "output_type": "stream",
     "text": [
      "100%|█████████████████████████████████▉| 163764/163886 [18:40<00:00, 126.84it/s]"
     ]
    },
    {
     "name": "stdout",
     "output_type": "stream",
     "text": [
      "Too much tries\n",
      "Too much tries\n",
      "Too much tries\n",
      "Too much tries\n",
      "Too much tries\n",
      "Too much tries\n"
     ]
    },
    {
     "name": "stderr",
     "output_type": "stream",
     "text": [
      "100%|█████████████████████████████████▉| 163790/163886 [18:40<00:00, 122.41it/s]"
     ]
    },
    {
     "name": "stdout",
     "output_type": "stream",
     "text": [
      "Too much tries\n",
      "Too much tries\n",
      "Too much tries\n",
      "Too much tries\n",
      "Too much tries\n",
      "Too much tries\n",
      "Too much tries\n",
      "Too much tries\n",
      "Too much tries\n",
      "Too much tries\n",
      "Too much tries\n",
      "Too much tries\n",
      "Too much tries\n",
      "Too much tries\n"
     ]
    },
    {
     "name": "stderr",
     "output_type": "stream",
     "text": [
      "100%|█████████████████████████████████▉| 163815/163886 [18:41<00:00, 118.66it/s]"
     ]
    },
    {
     "name": "stdout",
     "output_type": "stream",
     "text": [
      "Too much tries\n",
      "Too much tries\n",
      "Too much tries\n",
      "Too much tries\n",
      "Too much tries\n",
      "Too much tries\n",
      "Too much tries\n",
      "Too much tries\n",
      "Too much tries\n",
      "Too much tries\n",
      "Too much tries\n",
      "Too much tries\n",
      "Too much tries\n",
      "Too much tries\n"
     ]
    },
    {
     "name": "stderr",
     "output_type": "stream",
     "text": [
      "100%|█████████████████████████████████▉| 163839/163886 [18:41<00:00, 115.94it/s]"
     ]
    },
    {
     "name": "stdout",
     "output_type": "stream",
     "text": [
      "Too much tries\n",
      "Too much tries\n",
      "Too much tries\n",
      "Too much tries\n",
      "Too much tries\n",
      "Too much tries\n",
      "Too much tries\n",
      "Too much tries\n",
      "Too much tries\n",
      "Too much tries\n",
      "Too much tries\n",
      "Too much tries\n",
      "Too much tries\n",
      "Too much tries\n",
      "Too much tries\n",
      "Too much tries\n",
      "Too much tries\n",
      "Too much tries\n"
     ]
    },
    {
     "name": "stderr",
     "output_type": "stream",
     "text": [
      "100%|█████████████████████████████████▉| 163862/163886 [18:41<00:00, 105.89it/s]"
     ]
    },
    {
     "name": "stdout",
     "output_type": "stream",
     "text": [
      "Too much tries\n",
      "Too much tries\n",
      "Too much tries\n",
      "Too much tries\n",
      "Too much tries\n",
      "Too much tries\n",
      "Too much tries\n",
      "Too much tries\n",
      "Too much tries\n",
      "Too much tries\n",
      "Too much tries\n",
      "Too much tries\n",
      "Too much tries\n",
      "Too much tries\n",
      "Too much tries\n",
      "Too much tries\n",
      "Too much tries\n",
      "Too much tries\n",
      "Too much tries\n",
      "Too much tries\n"
     ]
    },
    {
     "name": "stderr",
     "output_type": "stream",
     "text": [
      "100%|█████████████████████████████████▉| 163884/163886 [18:41<00:00, 102.86it/s]"
     ]
    },
    {
     "name": "stdout",
     "output_type": "stream",
     "text": [
      "Too much tries\n",
      "Too much tries\n",
      "Too much tries\n",
      "Too much tries\n",
      "Too much tries\n",
      "Too much tries\n",
      "Too much tries\n",
      "Too much tries\n",
      "Too much tries\n",
      "Too much tries\n",
      "Too much tries\n",
      "Too much tries\n",
      "Too much tries\n",
      "Too much tries\n",
      "Too much tries\n",
      "Too much tries\n"
     ]
    },
    {
     "name": "stderr",
     "output_type": "stream",
     "text": [
      "100%|██████████████████████████████████| 163886/163886 [18:41<00:00, 146.08it/s]\n"
     ]
    }
   ],
   "source": [
    "def assignSchools(df_orig, hh_points_dic, schools_df_orig):\n",
    "    assign_type = '15km' # 'closest' or any ohter string to apply less than 15km radius workplace\n",
    "    close_schools_ids = []\n",
    "\n",
    "    df = df_orig[df_orig.apply(isSchoolAge, axis=1)]\n",
    "    # print(len(df))\n",
    "\n",
    "    students_num = {}  # Counting students assigned to each school\n",
    "\n",
    "    print(\"Schools, total: {}\".format(schools_df_orig.shape[0]))\n",
    "    print(\"Schoolchildren, total: {}\".format(df.shape[0]))\n",
    "    input(\"Press any key to continue calculating...\")\n",
    "\n",
    "    df_add = pd.DataFrame(list(np.zeros(schools_df_orig.shape[0])), columns=[\n",
    "                          'distances'], index=schools_df_orig.index)\n",
    "    schools_df = schools_df_orig.join(df_add)\n",
    "\n",
    "    allSchoolsFilled = False\n",
    "\n",
    "    for idx in tqdm(range(int(df.shape[0]))):\n",
    "        person_row = df.iloc[idx]\n",
    "        person_point = hh_points_dic[person_row['sp_hh_id']]\n",
    "        # print(\"Student {} (out of {})\".format(idx, df.shape[0]))\n",
    "        person_point = hh_points_dic[person_row['sp_hh_id']]\n",
    "\n",
    "        series_distance = schools_df.apply(\n",
    "            findDistToObj, args=(person_point, ), axis=1)\n",
    "        df_add = pd.DataFrame(series_distance.tolist(), columns=[\n",
    "                              'distances'], index=schools_df.index)\n",
    "        schools_df.update(df_add)\n",
    "\n",
    "        isStudentAssigned = False\n",
    "\n",
    "        while not isStudentAssigned:\n",
    "            # print(\"Schools: \\n\", schools_df)\n",
    "            # print(\"School distances: \\n\", schools_df['distances'])\n",
    "            \n",
    "            close_school = None\n",
    "            min_index = 0\n",
    "            ### ASSIGN CLOSEST WORKPLACE\n",
    "            if (assign_type == 'closest'):\n",
    "                min_index = schools_df['distances'].idxmin()\n",
    "                close_school = schools_df.loc[min_index]\n",
    "            ### ASSIGN FROM SOME DISTANCE    \n",
    "            else: \n",
    "                schoolCloseEnough = False \n",
    "                counter = 0\n",
    "                while (not schoolCloseEnough):\n",
    "                    # random.seed(10)\n",
    "                    min_index = np.random.choice(schools_df['distances'].index, size=1)[0]\n",
    "                    close_school = schools_df.loc[min_index]\n",
    "                    counter+=1\n",
    "                    if counter >= 50:\n",
    "                        print('Too much tries')\n",
    "                        schoolCloseEnough = True\n",
    "                    # print(close_workplace.shape)\n",
    "                    # print(close_workplace['distances'])\n",
    "                    if (close_school['distances'] <= 5): \n",
    "                        # print(close_workplace)\n",
    "                        schoolCloseEnough = True\n",
    "\n",
    "            # print(min_index)\n",
    "            close_school = schools_df.loc[min_index]\n",
    "\n",
    "            if not (close_school['sp_id'] in students_num.keys()):  # checking capacity\n",
    "                students_num[close_school['sp_id']] = 1\n",
    "            else:\n",
    "                students_num[close_school['sp_id']\n",
    "                             ] = students_num[close_school['sp_id']] + 1\n",
    "\n",
    "            # print('Success!')\n",
    "            # print(\"Student distribution \", students_num)\n",
    "\n",
    "            # school filled to capacity\n",
    "            if students_num[close_school['sp_id']] == close_school['size']:\n",
    "                # print(\"Before: {}\".format(schools_df.shape[0]))\n",
    "                # (schools_df.index[min_index])\n",
    "                schools_df = schools_df.drop(min_index)\n",
    "                # print(\"After: {}\".format(schools_df.shape[0]))\n",
    "\n",
    "                if schools_df.shape[0] == 0:\n",
    "                    allSchoolsFilled = True\n",
    "\n",
    "            isStudentAssigned = True\n",
    "\n",
    "        close_schools_ids.append(close_school['sp_id'])\n",
    "\n",
    "        if allSchoolsFilled:\n",
    "            print(\"All schools filled to capacity!\")\n",
    "            break\n",
    "\n",
    "    # print(pd.Series(close_schools_ids, name=\"school_id\", index = df.index[:len(close_schools_ids)]))\n",
    "    # print(close_schools_ids)\n",
    "    df_orig.update(pd.DataFrame(close_schools_ids, columns=[\n",
    "                   'school_id'], index=df.index[:len(close_schools_ids)]))\n",
    "    df_orig.to_csv(output_dir, sep='\\t')\n",
    "    return df_orig\n",
    "\n",
    "schools_df['size'].sum()\n",
    "df_assign = assignSchools(people_df, hh_points_dic, schools_df)"
   ]
  },
  {
   "cell_type": "code",
   "execution_count": 5,
   "metadata": {},
   "outputs": [
    {
     "data": {
      "text/plain": [
       "0.0"
      ]
     },
     "execution_count": 5,
     "metadata": {},
     "output_type": "execute_result"
    }
   ],
   "source": [
    "schools_df['size_new'] = schools_df['size'] + 2150\n",
    "schools_df['size_new'].sum()"
   ]
  },
  {
   "cell_type": "code",
   "execution_count": null,
   "metadata": {},
   "outputs": [],
   "source": []
  }
 ],
 "metadata": {
  "kernelspec": {
   "display_name": "Python 3 (ipykernel)",
   "language": "python",
   "name": "python3"
  },
  "language_info": {
   "codemirror_mode": {
    "name": "ipython",
    "version": 3
   },
   "file_extension": ".py",
   "mimetype": "text/x-python",
   "name": "python",
   "nbconvert_exporter": "python",
   "pygments_lexer": "ipython3",
   "version": "3.10.12"
  }
 },
 "nbformat": 4,
 "nbformat_minor": 4
}
